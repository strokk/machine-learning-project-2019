{
 "cells": [
  {
   "cell_type": "markdown",
   "metadata": {},
   "source": [
    "# Housing Values in Suburbs of Boston\n"
   ]
  },
  {
   "cell_type": "markdown",
   "metadata": {},
   "source": [
    "<p align=\"center\"><img src=\"https://storage.googleapis.com/kaggle-competitions/kaggle/5315/logos/front_page.png\" width=250px></p><br>"
   ]
  },
  {
   "cell_type": "markdown",
   "metadata": {},
   "source": [
    "## Overview"
   ]
  },
  {
   "cell_type": "markdown",
   "metadata": {},
   "source": [
    "This project is being made as a study on the known Boston Houses data set [1]. This dataset is made from a study from a US census regarding various house prices in different areas in the city of Boston, MA. Besides the price, the dataset also contains other 13 attributes, such as:\n",
    "\n",
    "- CRIM - per capita crime rate by town\n",
    "- N - proportion of residential land zoned for lots over 25,000 sq.ft.\n",
    "- INDUS - proportion of non-retail business acres per town.\n",
    "- Along others..\n",
    "\n",
    "This data was first published in 1978 by Harrison, D. and Rubinfeld, D.L. and it contains around 506 samples, which makes it fairly small given the size of Boston.\n",
    "\n",
    "This notebook will be divided into 3 sections as follows:\n",
    "\n",
    "1. Descriptive: The first section will be focused on conducting a statistical study on the dataset, where I will use descriptive statistics and plots to describe the Boston housing prices.\n",
    "\n",
    "2. Inferential: This section will be used to analyse the dataset using inferential statistics in order to determine differences in house prices betwen their location.\n",
    "3.  Predict: The last section will be left for the prediction, Where I will be utilizing the Python library, keras, to conduct a neural network to be able to predict the median house price\n",
    "\n",
    "*****"
   ]
  },
  {
   "cell_type": "markdown",
   "metadata": {},
   "source": [
    "## 1. Descriptive"
   ]
  },
  {
   "cell_type": "markdown",
   "metadata": {},
   "source": [
    "Descriptive statistics is used to describe and summarize a data set, and it can be used the entire representation or a sample of the data. descriptive statistics also masures the mean, median, mode an other measures such as standard deviation, variance and the kurtosis and skewness.\n",
    "\n",
    "Frst I will use descriptive statistics and plots in order to better understand the dataset to be studied, and also to understand the correlation between all the variables.\n",
    "\n"
   ]
  },
  {
   "cell_type": "markdown",
   "metadata": {},
   "source": [
    "Before we start, we will need to import all the necessary Python libraries for this analysis:"
   ]
  },
  {
   "cell_type": "code",
   "execution_count": 1,
   "metadata": {},
   "outputs": [
    {
     "name": "stderr",
     "output_type": "stream",
     "text": [
      "Using TensorFlow backend.\n"
     ]
    }
   ],
   "source": [
    "%matplotlib inline\n",
    "\n",
    "import numpy as np\n",
    "import matplotlib.pyplot as plt \n",
    "import pandas as pd  \n",
    "import seaborn as sns \n",
    "import statsmodels.api as sm\n",
    "import scipy.stats as ss\n",
    "import keras as kr\n",
    "from keras.datasets import boston_housing\n",
    "from sklearn.model_selection import train_test_split, GridSearchCV, ShuffleSplit, KFold,  cross_val_score"
   ]
  },
  {
   "cell_type": "markdown",
   "metadata": {},
   "source": [
    "Next we could load the dataset from a CSV, but we can also use sklearn library to load the dataset."
   ]
  },
  {
   "cell_type": "code",
   "execution_count": 2,
   "metadata": {},
   "outputs": [],
   "source": [
    "from sklearn.datasets import load_boston\n",
    "boston = load_boston()"
   ]
  },
  {
   "cell_type": "markdown",
   "metadata": {},
   "source": [
    "It's also good to understand all the values of the dataset, so we run the following code:"
   ]
  },
  {
   "cell_type": "code",
   "execution_count": 3,
   "metadata": {},
   "outputs": [
    {
     "name": "stdout",
     "output_type": "stream",
     "text": [
      "dict_keys(['data', 'target', 'feature_names', 'DESCR', 'filename'])\n"
     ]
    }
   ],
   "source": [
    "print(boston.keys())"
   ]
  },
  {
   "cell_type": "markdown",
   "metadata": {},
   "source": [
    "This translates to the following:\n",
    "\n",
    "- data: contains the raw dataset\n",
    "- target: prices of the houses\n",
    "- feature_names: names of all the attributes\n",
    "- DESCR: describes the attributes from the dataset\n",
    "\n",
    "We can have a further look into the description:"
   ]
  },
  {
   "cell_type": "code",
   "execution_count": 4,
   "metadata": {},
   "outputs": [
    {
     "name": "stdout",
     "output_type": "stream",
     "text": [
      ".. _boston_dataset:\n",
      "\n",
      "Boston house prices dataset\n",
      "---------------------------\n",
      "\n",
      "**Data Set Characteristics:**  \n",
      "\n",
      "    :Number of Instances: 506 \n",
      "\n",
      "    :Number of Attributes: 13 numeric/categorical predictive. Median Value (attribute 14) is usually the target.\n",
      "\n",
      "    :Attribute Information (in order):\n",
      "        - CRIM     per capita crime rate by town\n",
      "        - ZN       proportion of residential land zoned for lots over 25,000 sq.ft.\n",
      "        - INDUS    proportion of non-retail business acres per town\n",
      "        - CHAS     Charles River dummy variable (= 1 if tract bounds river; 0 otherwise)\n",
      "        - NOX      nitric oxides concentration (parts per 10 million)\n",
      "        - RM       average number of rooms per dwelling\n",
      "        - AGE      proportion of owner-occupied units built prior to 1940\n",
      "        - DIS      weighted distances to five Boston employment centres\n",
      "        - RAD      index of accessibility to radial highways\n",
      "        - TAX      full-value property-tax rate per $10,000\n",
      "        - PTRATIO  pupil-teacher ratio by town\n",
      "        - B        1000(Bk - 0.63)^2 where Bk is the proportion of blacks by town\n",
      "        - LSTAT    % lower status of the population\n",
      "        - MEDV     Median value of owner-occupied homes in $1000's\n",
      "\n",
      "    :Missing Attribute Values: None\n",
      "\n",
      "    :Creator: Harrison, D. and Rubinfeld, D.L.\n",
      "\n",
      "This is a copy of UCI ML housing dataset.\n",
      "https://archive.ics.uci.edu/ml/machine-learning-databases/housing/\n",
      "\n",
      "\n",
      "This dataset was taken from the StatLib library which is maintained at Carnegie Mellon University.\n",
      "\n",
      "The Boston house-price data of Harrison, D. and Rubinfeld, D.L. 'Hedonic\n",
      "prices and the demand for clean air', J. Environ. Economics & Management,\n",
      "vol.5, 81-102, 1978.   Used in Belsley, Kuh & Welsch, 'Regression diagnostics\n",
      "...', Wiley, 1980.   N.B. Various transformations are used in the table on\n",
      "pages 244-261 of the latter.\n",
      "\n",
      "The Boston house-price data has been used in many machine learning papers that address regression\n",
      "problems.   \n",
      "     \n",
      ".. topic:: References\n",
      "\n",
      "   - Belsley, Kuh & Welsch, 'Regression diagnostics: Identifying Influential Data and Sources of Collinearity', Wiley, 1980. 244-261.\n",
      "   - Quinlan,R. (1993). Combining Instance-Based and Model-Based Learning. In Proceedings on the Tenth International Conference of Machine Learning, 236-243, University of Massachusetts, Amherst. Morgan Kaufmann.\n",
      "\n"
     ]
    }
   ],
   "source": [
    "print(boston.DESCR)"
   ]
  },
  {
   "cell_type": "markdown",
   "metadata": {},
   "source": [
    "With the basics of the dataset explained, we can now move on to start loading the data into a dataframe using pandas:"
   ]
  },
  {
   "cell_type": "code",
   "execution_count": 5,
   "metadata": {},
   "outputs": [
    {
     "data": {
      "text/html": [
       "<div>\n",
       "<style scoped>\n",
       "    .dataframe tbody tr th:only-of-type {\n",
       "        vertical-align: middle;\n",
       "    }\n",
       "\n",
       "    .dataframe tbody tr th {\n",
       "        vertical-align: top;\n",
       "    }\n",
       "\n",
       "    .dataframe thead th {\n",
       "        text-align: right;\n",
       "    }\n",
       "</style>\n",
       "<table border=\"1\" class=\"dataframe\">\n",
       "  <thead>\n",
       "    <tr style=\"text-align: right;\">\n",
       "      <th></th>\n",
       "      <th>CRIM</th>\n",
       "      <th>ZN</th>\n",
       "      <th>INDUS</th>\n",
       "      <th>CHAS</th>\n",
       "      <th>NOX</th>\n",
       "      <th>RM</th>\n",
       "      <th>AGE</th>\n",
       "      <th>DIS</th>\n",
       "      <th>RAD</th>\n",
       "      <th>TAX</th>\n",
       "      <th>PTRATIO</th>\n",
       "      <th>B</th>\n",
       "      <th>LSTAT</th>\n",
       "    </tr>\n",
       "  </thead>\n",
       "  <tbody>\n",
       "    <tr>\n",
       "      <td>0</td>\n",
       "      <td>0.00632</td>\n",
       "      <td>18.0</td>\n",
       "      <td>2.31</td>\n",
       "      <td>0.0</td>\n",
       "      <td>0.538</td>\n",
       "      <td>6.575</td>\n",
       "      <td>65.2</td>\n",
       "      <td>4.0900</td>\n",
       "      <td>1.0</td>\n",
       "      <td>296.0</td>\n",
       "      <td>15.3</td>\n",
       "      <td>396.90</td>\n",
       "      <td>4.98</td>\n",
       "    </tr>\n",
       "    <tr>\n",
       "      <td>1</td>\n",
       "      <td>0.02731</td>\n",
       "      <td>0.0</td>\n",
       "      <td>7.07</td>\n",
       "      <td>0.0</td>\n",
       "      <td>0.469</td>\n",
       "      <td>6.421</td>\n",
       "      <td>78.9</td>\n",
       "      <td>4.9671</td>\n",
       "      <td>2.0</td>\n",
       "      <td>242.0</td>\n",
       "      <td>17.8</td>\n",
       "      <td>396.90</td>\n",
       "      <td>9.14</td>\n",
       "    </tr>\n",
       "    <tr>\n",
       "      <td>2</td>\n",
       "      <td>0.02729</td>\n",
       "      <td>0.0</td>\n",
       "      <td>7.07</td>\n",
       "      <td>0.0</td>\n",
       "      <td>0.469</td>\n",
       "      <td>7.185</td>\n",
       "      <td>61.1</td>\n",
       "      <td>4.9671</td>\n",
       "      <td>2.0</td>\n",
       "      <td>242.0</td>\n",
       "      <td>17.8</td>\n",
       "      <td>392.83</td>\n",
       "      <td>4.03</td>\n",
       "    </tr>\n",
       "    <tr>\n",
       "      <td>3</td>\n",
       "      <td>0.03237</td>\n",
       "      <td>0.0</td>\n",
       "      <td>2.18</td>\n",
       "      <td>0.0</td>\n",
       "      <td>0.458</td>\n",
       "      <td>6.998</td>\n",
       "      <td>45.8</td>\n",
       "      <td>6.0622</td>\n",
       "      <td>3.0</td>\n",
       "      <td>222.0</td>\n",
       "      <td>18.7</td>\n",
       "      <td>394.63</td>\n",
       "      <td>2.94</td>\n",
       "    </tr>\n",
       "    <tr>\n",
       "      <td>4</td>\n",
       "      <td>0.06905</td>\n",
       "      <td>0.0</td>\n",
       "      <td>2.18</td>\n",
       "      <td>0.0</td>\n",
       "      <td>0.458</td>\n",
       "      <td>7.147</td>\n",
       "      <td>54.2</td>\n",
       "      <td>6.0622</td>\n",
       "      <td>3.0</td>\n",
       "      <td>222.0</td>\n",
       "      <td>18.7</td>\n",
       "      <td>396.90</td>\n",
       "      <td>5.33</td>\n",
       "    </tr>\n",
       "  </tbody>\n",
       "</table>\n",
       "</div>"
      ],
      "text/plain": [
       "      CRIM    ZN  INDUS  CHAS    NOX     RM   AGE     DIS  RAD    TAX  \\\n",
       "0  0.00632  18.0   2.31   0.0  0.538  6.575  65.2  4.0900  1.0  296.0   \n",
       "1  0.02731   0.0   7.07   0.0  0.469  6.421  78.9  4.9671  2.0  242.0   \n",
       "2  0.02729   0.0   7.07   0.0  0.469  7.185  61.1  4.9671  2.0  242.0   \n",
       "3  0.03237   0.0   2.18   0.0  0.458  6.998  45.8  6.0622  3.0  222.0   \n",
       "4  0.06905   0.0   2.18   0.0  0.458  7.147  54.2  6.0622  3.0  222.0   \n",
       "\n",
       "   PTRATIO       B  LSTAT  \n",
       "0     15.3  396.90   4.98  \n",
       "1     17.8  396.90   9.14  \n",
       "2     17.8  392.83   4.03  \n",
       "3     18.7  394.63   2.94  \n",
       "4     18.7  396.90   5.33  "
      ]
     },
     "execution_count": 5,
     "metadata": {},
     "output_type": "execute_result"
    }
   ],
   "source": [
    "df = pd.DataFrame(boston.data, columns=boston.feature_names)\n",
    "df.head()"
   ]
  },
  {
   "cell_type": "markdown",
   "metadata": {},
   "source": [
    "As stated below in the Overview, the target here is the median price of the houses, and this attribute is not shown in the above dataframe, so it's necessary to add it as well:"
   ]
  },
  {
   "cell_type": "code",
   "execution_count": 6,
   "metadata": {},
   "outputs": [],
   "source": [
    "df['MEDV'] = boston.target"
   ]
  },
  {
   "cell_type": "code",
   "execution_count": 7,
   "metadata": {},
   "outputs": [
    {
     "data": {
      "text/html": [
       "<div>\n",
       "<style scoped>\n",
       "    .dataframe tbody tr th:only-of-type {\n",
       "        vertical-align: middle;\n",
       "    }\n",
       "\n",
       "    .dataframe tbody tr th {\n",
       "        vertical-align: top;\n",
       "    }\n",
       "\n",
       "    .dataframe thead th {\n",
       "        text-align: right;\n",
       "    }\n",
       "</style>\n",
       "<table border=\"1\" class=\"dataframe\">\n",
       "  <thead>\n",
       "    <tr style=\"text-align: right;\">\n",
       "      <th></th>\n",
       "      <th>CRIM</th>\n",
       "      <th>ZN</th>\n",
       "      <th>INDUS</th>\n",
       "      <th>CHAS</th>\n",
       "      <th>NOX</th>\n",
       "      <th>RM</th>\n",
       "      <th>AGE</th>\n",
       "      <th>DIS</th>\n",
       "      <th>RAD</th>\n",
       "      <th>TAX</th>\n",
       "      <th>PTRATIO</th>\n",
       "      <th>B</th>\n",
       "      <th>LSTAT</th>\n",
       "      <th>MEDV</th>\n",
       "    </tr>\n",
       "  </thead>\n",
       "  <tbody>\n",
       "    <tr>\n",
       "      <td>501</td>\n",
       "      <td>0.06263</td>\n",
       "      <td>0.0</td>\n",
       "      <td>11.93</td>\n",
       "      <td>0.0</td>\n",
       "      <td>0.573</td>\n",
       "      <td>6.593</td>\n",
       "      <td>69.1</td>\n",
       "      <td>2.4786</td>\n",
       "      <td>1.0</td>\n",
       "      <td>273.0</td>\n",
       "      <td>21.0</td>\n",
       "      <td>391.99</td>\n",
       "      <td>9.67</td>\n",
       "      <td>22.4</td>\n",
       "    </tr>\n",
       "    <tr>\n",
       "      <td>502</td>\n",
       "      <td>0.04527</td>\n",
       "      <td>0.0</td>\n",
       "      <td>11.93</td>\n",
       "      <td>0.0</td>\n",
       "      <td>0.573</td>\n",
       "      <td>6.120</td>\n",
       "      <td>76.7</td>\n",
       "      <td>2.2875</td>\n",
       "      <td>1.0</td>\n",
       "      <td>273.0</td>\n",
       "      <td>21.0</td>\n",
       "      <td>396.90</td>\n",
       "      <td>9.08</td>\n",
       "      <td>20.6</td>\n",
       "    </tr>\n",
       "    <tr>\n",
       "      <td>503</td>\n",
       "      <td>0.06076</td>\n",
       "      <td>0.0</td>\n",
       "      <td>11.93</td>\n",
       "      <td>0.0</td>\n",
       "      <td>0.573</td>\n",
       "      <td>6.976</td>\n",
       "      <td>91.0</td>\n",
       "      <td>2.1675</td>\n",
       "      <td>1.0</td>\n",
       "      <td>273.0</td>\n",
       "      <td>21.0</td>\n",
       "      <td>396.90</td>\n",
       "      <td>5.64</td>\n",
       "      <td>23.9</td>\n",
       "    </tr>\n",
       "    <tr>\n",
       "      <td>504</td>\n",
       "      <td>0.10959</td>\n",
       "      <td>0.0</td>\n",
       "      <td>11.93</td>\n",
       "      <td>0.0</td>\n",
       "      <td>0.573</td>\n",
       "      <td>6.794</td>\n",
       "      <td>89.3</td>\n",
       "      <td>2.3889</td>\n",
       "      <td>1.0</td>\n",
       "      <td>273.0</td>\n",
       "      <td>21.0</td>\n",
       "      <td>393.45</td>\n",
       "      <td>6.48</td>\n",
       "      <td>22.0</td>\n",
       "    </tr>\n",
       "    <tr>\n",
       "      <td>505</td>\n",
       "      <td>0.04741</td>\n",
       "      <td>0.0</td>\n",
       "      <td>11.93</td>\n",
       "      <td>0.0</td>\n",
       "      <td>0.573</td>\n",
       "      <td>6.030</td>\n",
       "      <td>80.8</td>\n",
       "      <td>2.5050</td>\n",
       "      <td>1.0</td>\n",
       "      <td>273.0</td>\n",
       "      <td>21.0</td>\n",
       "      <td>396.90</td>\n",
       "      <td>7.88</td>\n",
       "      <td>11.9</td>\n",
       "    </tr>\n",
       "  </tbody>\n",
       "</table>\n",
       "</div>"
      ],
      "text/plain": [
       "        CRIM   ZN  INDUS  CHAS    NOX     RM   AGE     DIS  RAD    TAX  \\\n",
       "501  0.06263  0.0  11.93   0.0  0.573  6.593  69.1  2.4786  1.0  273.0   \n",
       "502  0.04527  0.0  11.93   0.0  0.573  6.120  76.7  2.2875  1.0  273.0   \n",
       "503  0.06076  0.0  11.93   0.0  0.573  6.976  91.0  2.1675  1.0  273.0   \n",
       "504  0.10959  0.0  11.93   0.0  0.573  6.794  89.3  2.3889  1.0  273.0   \n",
       "505  0.04741  0.0  11.93   0.0  0.573  6.030  80.8  2.5050  1.0  273.0   \n",
       "\n",
       "     PTRATIO       B  LSTAT  MEDV  \n",
       "501     21.0  391.99   9.67  22.4  \n",
       "502     21.0  396.90   9.08  20.6  \n",
       "503     21.0  396.90   5.64  23.9  \n",
       "504     21.0  393.45   6.48  22.0  \n",
       "505     21.0  396.90   7.88  11.9  "
      ]
     },
     "execution_count": 7,
     "metadata": {},
     "output_type": "execute_result"
    }
   ],
   "source": [
    "#Showing the updated dataframe\n",
    "df.tail()"
   ]
  },
  {
   "cell_type": "markdown",
   "metadata": {},
   "source": [
    "In order to analyze this data in a more quantitative description, I will make use of the pandas describe function which gives us a very well summary of descriptive statistics:"
   ]
  },
  {
   "cell_type": "code",
   "execution_count": 8,
   "metadata": {},
   "outputs": [
    {
     "data": {
      "text/html": [
       "<div>\n",
       "<style scoped>\n",
       "    .dataframe tbody tr th:only-of-type {\n",
       "        vertical-align: middle;\n",
       "    }\n",
       "\n",
       "    .dataframe tbody tr th {\n",
       "        vertical-align: top;\n",
       "    }\n",
       "\n",
       "    .dataframe thead th {\n",
       "        text-align: right;\n",
       "    }\n",
       "</style>\n",
       "<table border=\"1\" class=\"dataframe\">\n",
       "  <thead>\n",
       "    <tr style=\"text-align: right;\">\n",
       "      <th></th>\n",
       "      <th>count</th>\n",
       "      <th>mean</th>\n",
       "      <th>std</th>\n",
       "      <th>min</th>\n",
       "      <th>25%</th>\n",
       "      <th>50%</th>\n",
       "      <th>75%</th>\n",
       "      <th>max</th>\n",
       "    </tr>\n",
       "  </thead>\n",
       "  <tbody>\n",
       "    <tr>\n",
       "      <td>CRIM</td>\n",
       "      <td>506.0</td>\n",
       "      <td>3.613524</td>\n",
       "      <td>8.601545</td>\n",
       "      <td>0.00632</td>\n",
       "      <td>0.082045</td>\n",
       "      <td>0.25651</td>\n",
       "      <td>3.677083</td>\n",
       "      <td>88.9762</td>\n",
       "    </tr>\n",
       "    <tr>\n",
       "      <td>ZN</td>\n",
       "      <td>506.0</td>\n",
       "      <td>11.363636</td>\n",
       "      <td>23.322453</td>\n",
       "      <td>0.00000</td>\n",
       "      <td>0.000000</td>\n",
       "      <td>0.00000</td>\n",
       "      <td>12.500000</td>\n",
       "      <td>100.0000</td>\n",
       "    </tr>\n",
       "    <tr>\n",
       "      <td>INDUS</td>\n",
       "      <td>506.0</td>\n",
       "      <td>11.136779</td>\n",
       "      <td>6.860353</td>\n",
       "      <td>0.46000</td>\n",
       "      <td>5.190000</td>\n",
       "      <td>9.69000</td>\n",
       "      <td>18.100000</td>\n",
       "      <td>27.7400</td>\n",
       "    </tr>\n",
       "    <tr>\n",
       "      <td>CHAS</td>\n",
       "      <td>506.0</td>\n",
       "      <td>0.069170</td>\n",
       "      <td>0.253994</td>\n",
       "      <td>0.00000</td>\n",
       "      <td>0.000000</td>\n",
       "      <td>0.00000</td>\n",
       "      <td>0.000000</td>\n",
       "      <td>1.0000</td>\n",
       "    </tr>\n",
       "    <tr>\n",
       "      <td>NOX</td>\n",
       "      <td>506.0</td>\n",
       "      <td>0.554695</td>\n",
       "      <td>0.115878</td>\n",
       "      <td>0.38500</td>\n",
       "      <td>0.449000</td>\n",
       "      <td>0.53800</td>\n",
       "      <td>0.624000</td>\n",
       "      <td>0.8710</td>\n",
       "    </tr>\n",
       "    <tr>\n",
       "      <td>RM</td>\n",
       "      <td>506.0</td>\n",
       "      <td>6.284634</td>\n",
       "      <td>0.702617</td>\n",
       "      <td>3.56100</td>\n",
       "      <td>5.885500</td>\n",
       "      <td>6.20850</td>\n",
       "      <td>6.623500</td>\n",
       "      <td>8.7800</td>\n",
       "    </tr>\n",
       "    <tr>\n",
       "      <td>AGE</td>\n",
       "      <td>506.0</td>\n",
       "      <td>68.574901</td>\n",
       "      <td>28.148861</td>\n",
       "      <td>2.90000</td>\n",
       "      <td>45.025000</td>\n",
       "      <td>77.50000</td>\n",
       "      <td>94.075000</td>\n",
       "      <td>100.0000</td>\n",
       "    </tr>\n",
       "    <tr>\n",
       "      <td>DIS</td>\n",
       "      <td>506.0</td>\n",
       "      <td>3.795043</td>\n",
       "      <td>2.105710</td>\n",
       "      <td>1.12960</td>\n",
       "      <td>2.100175</td>\n",
       "      <td>3.20745</td>\n",
       "      <td>5.188425</td>\n",
       "      <td>12.1265</td>\n",
       "    </tr>\n",
       "    <tr>\n",
       "      <td>RAD</td>\n",
       "      <td>506.0</td>\n",
       "      <td>9.549407</td>\n",
       "      <td>8.707259</td>\n",
       "      <td>1.00000</td>\n",
       "      <td>4.000000</td>\n",
       "      <td>5.00000</td>\n",
       "      <td>24.000000</td>\n",
       "      <td>24.0000</td>\n",
       "    </tr>\n",
       "    <tr>\n",
       "      <td>TAX</td>\n",
       "      <td>506.0</td>\n",
       "      <td>408.237154</td>\n",
       "      <td>168.537116</td>\n",
       "      <td>187.00000</td>\n",
       "      <td>279.000000</td>\n",
       "      <td>330.00000</td>\n",
       "      <td>666.000000</td>\n",
       "      <td>711.0000</td>\n",
       "    </tr>\n",
       "    <tr>\n",
       "      <td>PTRATIO</td>\n",
       "      <td>506.0</td>\n",
       "      <td>18.455534</td>\n",
       "      <td>2.164946</td>\n",
       "      <td>12.60000</td>\n",
       "      <td>17.400000</td>\n",
       "      <td>19.05000</td>\n",
       "      <td>20.200000</td>\n",
       "      <td>22.0000</td>\n",
       "    </tr>\n",
       "    <tr>\n",
       "      <td>B</td>\n",
       "      <td>506.0</td>\n",
       "      <td>356.674032</td>\n",
       "      <td>91.294864</td>\n",
       "      <td>0.32000</td>\n",
       "      <td>375.377500</td>\n",
       "      <td>391.44000</td>\n",
       "      <td>396.225000</td>\n",
       "      <td>396.9000</td>\n",
       "    </tr>\n",
       "    <tr>\n",
       "      <td>LSTAT</td>\n",
       "      <td>506.0</td>\n",
       "      <td>12.653063</td>\n",
       "      <td>7.141062</td>\n",
       "      <td>1.73000</td>\n",
       "      <td>6.950000</td>\n",
       "      <td>11.36000</td>\n",
       "      <td>16.955000</td>\n",
       "      <td>37.9700</td>\n",
       "    </tr>\n",
       "    <tr>\n",
       "      <td>MEDV</td>\n",
       "      <td>506.0</td>\n",
       "      <td>22.532806</td>\n",
       "      <td>9.197104</td>\n",
       "      <td>5.00000</td>\n",
       "      <td>17.025000</td>\n",
       "      <td>21.20000</td>\n",
       "      <td>25.000000</td>\n",
       "      <td>50.0000</td>\n",
       "    </tr>\n",
       "  </tbody>\n",
       "</table>\n",
       "</div>"
      ],
      "text/plain": [
       "         count        mean         std        min         25%        50%  \\\n",
       "CRIM     506.0    3.613524    8.601545    0.00632    0.082045    0.25651   \n",
       "ZN       506.0   11.363636   23.322453    0.00000    0.000000    0.00000   \n",
       "INDUS    506.0   11.136779    6.860353    0.46000    5.190000    9.69000   \n",
       "CHAS     506.0    0.069170    0.253994    0.00000    0.000000    0.00000   \n",
       "NOX      506.0    0.554695    0.115878    0.38500    0.449000    0.53800   \n",
       "RM       506.0    6.284634    0.702617    3.56100    5.885500    6.20850   \n",
       "AGE      506.0   68.574901   28.148861    2.90000   45.025000   77.50000   \n",
       "DIS      506.0    3.795043    2.105710    1.12960    2.100175    3.20745   \n",
       "RAD      506.0    9.549407    8.707259    1.00000    4.000000    5.00000   \n",
       "TAX      506.0  408.237154  168.537116  187.00000  279.000000  330.00000   \n",
       "PTRATIO  506.0   18.455534    2.164946   12.60000   17.400000   19.05000   \n",
       "B        506.0  356.674032   91.294864    0.32000  375.377500  391.44000   \n",
       "LSTAT    506.0   12.653063    7.141062    1.73000    6.950000   11.36000   \n",
       "MEDV     506.0   22.532806    9.197104    5.00000   17.025000   21.20000   \n",
       "\n",
       "                75%       max  \n",
       "CRIM       3.677083   88.9762  \n",
       "ZN        12.500000  100.0000  \n",
       "INDUS     18.100000   27.7400  \n",
       "CHAS       0.000000    1.0000  \n",
       "NOX        0.624000    0.8710  \n",
       "RM         6.623500    8.7800  \n",
       "AGE       94.075000  100.0000  \n",
       "DIS        5.188425   12.1265  \n",
       "RAD       24.000000   24.0000  \n",
       "TAX      666.000000  711.0000  \n",
       "PTRATIO   20.200000   22.0000  \n",
       "B        396.225000  396.9000  \n",
       "LSTAT     16.955000   37.9700  \n",
       "MEDV      25.000000   50.0000  "
      ]
     },
     "execution_count": 8,
     "metadata": {},
     "output_type": "execute_result"
    }
   ],
   "source": [
    "df.describe().T"
   ]
  },
  {
   "cell_type": "markdown",
   "metadata": {},
   "source": [
    "From the above, if we observe the mean (22.53) and the median (21.2) we can notice that the distribution is slightly right skewed. This is more obvious looking at distribution plots below."
   ]
  },
  {
   "cell_type": "markdown",
   "metadata": {},
   "source": [
    "#### Plotting and correlation"
   ]
  },
  {
   "cell_type": "markdown",
   "metadata": {},
   "source": [
    "In order to better understand the relationship of the target with the other features we can plot the distribution of the target using the distplot function from seaborn, which is able to combine a histogram with a kernel density estimation plot:"
   ]
  },
  {
   "cell_type": "markdown",
   "metadata": {},
   "source": [
    "To be easier to understand, we can make use of the histogram to graphically summarize and display the distribution of a process data set. This gives us a good look at the data, as to find out if it's symmetric or if it's skewed or even if the data contain outliers.\n",
    "\n"
   ]
  },
  {
   "cell_type": "code",
   "execution_count": 9,
   "metadata": {},
   "outputs": [
    {
     "data": {
      "text/plain": [
       "<function matplotlib.pyplot.show(*args, **kw)>"
      ]
     },
     "execution_count": 9,
     "metadata": {},
     "output_type": "execute_result"
    },
    {
     "data": {
      "image/png": "[encoded data removed]",
      "text/plain": [
       "<Figure size 1800x1440 with 16 Axes>"
      ]
     },
     "metadata": {
      "needs_background": "light"
     },
     "output_type": "display_data"
    }
   ],
   "source": [
    "# plotting a histogram for each of the features\n",
    "\n",
    "df.hist(figsize=(25, 20))\n",
    "plt.show"
   ]
  },
  {
   "cell_type": "code",
   "execution_count": 10,
   "metadata": {
    "scrolled": false
   },
   "outputs": [
    {
     "data": {
      "image/png": "[encoded data removed]",
      "text/plain": [
       "<Figure size 576x432 with 1 Axes>"
      ]
     },
     "metadata": {
      "needs_background": "light"
     },
     "output_type": "display_data"
    }
   ],
   "source": [
    "# plotting the the distribution of house prices\n",
    "plt.figure(figsize=(8,6))\n",
    "sns.distplot(df['MEDV'])\n",
    "plt.title('House Prices')\n",
    "plt.show()"
   ]
  },
  {
   "cell_type": "markdown",
   "metadata": {},
   "source": [
    "From the above we can notice that the values from the target MEDV are distributed normally and with just a few outliers.\n",
    "\n",
    "It's also important to have a look into the correlation between the attributes, for this we can use the pandas function .corr(), which will provide us with all attributes and values in a range between -1 and 1, where 1 means a total correlation, 0 no correlation and -1 negative correlation.\n",
    "\n",
    "This information is very important as it can help determine which variables are correlated and thus, worth further investigation."
   ]
  },
  {
   "cell_type": "code",
   "execution_count": 11,
   "metadata": {
    "scrolled": false
   },
   "outputs": [
    {
     "data": {
      "text/html": [
       "<div>\n",
       "<style scoped>\n",
       "    .dataframe tbody tr th:only-of-type {\n",
       "        vertical-align: middle;\n",
       "    }\n",
       "\n",
       "    .dataframe tbody tr th {\n",
       "        vertical-align: top;\n",
       "    }\n",
       "\n",
       "    .dataframe thead th {\n",
       "        text-align: right;\n",
       "    }\n",
       "</style>\n",
       "<table border=\"1\" class=\"dataframe\">\n",
       "  <thead>\n",
       "    <tr style=\"text-align: right;\">\n",
       "      <th></th>\n",
       "      <th>CRIM</th>\n",
       "      <th>ZN</th>\n",
       "      <th>INDUS</th>\n",
       "      <th>CHAS</th>\n",
       "      <th>NOX</th>\n",
       "      <th>RM</th>\n",
       "      <th>AGE</th>\n",
       "      <th>DIS</th>\n",
       "      <th>RAD</th>\n",
       "      <th>TAX</th>\n",
       "      <th>PTRATIO</th>\n",
       "      <th>B</th>\n",
       "      <th>LSTAT</th>\n",
       "      <th>MEDV</th>\n",
       "    </tr>\n",
       "  </thead>\n",
       "  <tbody>\n",
       "    <tr>\n",
       "      <td>CRIM</td>\n",
       "      <td>1.000000</td>\n",
       "      <td>-0.200469</td>\n",
       "      <td>0.406583</td>\n",
       "      <td>-0.055892</td>\n",
       "      <td>0.420972</td>\n",
       "      <td>-0.219247</td>\n",
       "      <td>0.352734</td>\n",
       "      <td>-0.379670</td>\n",
       "      <td>0.625505</td>\n",
       "      <td>0.582764</td>\n",
       "      <td>0.289946</td>\n",
       "      <td>-0.385064</td>\n",
       "      <td>0.455621</td>\n",
       "      <td>-0.388305</td>\n",
       "    </tr>\n",
       "    <tr>\n",
       "      <td>ZN</td>\n",
       "      <td>-0.200469</td>\n",
       "      <td>1.000000</td>\n",
       "      <td>-0.533828</td>\n",
       "      <td>-0.042697</td>\n",
       "      <td>-0.516604</td>\n",
       "      <td>0.311991</td>\n",
       "      <td>-0.569537</td>\n",
       "      <td>0.664408</td>\n",
       "      <td>-0.311948</td>\n",
       "      <td>-0.314563</td>\n",
       "      <td>-0.391679</td>\n",
       "      <td>0.175520</td>\n",
       "      <td>-0.412995</td>\n",
       "      <td>0.360445</td>\n",
       "    </tr>\n",
       "    <tr>\n",
       "      <td>INDUS</td>\n",
       "      <td>0.406583</td>\n",
       "      <td>-0.533828</td>\n",
       "      <td>1.000000</td>\n",
       "      <td>0.062938</td>\n",
       "      <td>0.763651</td>\n",
       "      <td>-0.391676</td>\n",
       "      <td>0.644779</td>\n",
       "      <td>-0.708027</td>\n",
       "      <td>0.595129</td>\n",
       "      <td>0.720760</td>\n",
       "      <td>0.383248</td>\n",
       "      <td>-0.356977</td>\n",
       "      <td>0.603800</td>\n",
       "      <td>-0.483725</td>\n",
       "    </tr>\n",
       "    <tr>\n",
       "      <td>CHAS</td>\n",
       "      <td>-0.055892</td>\n",
       "      <td>-0.042697</td>\n",
       "      <td>0.062938</td>\n",
       "      <td>1.000000</td>\n",
       "      <td>0.091203</td>\n",
       "      <td>0.091251</td>\n",
       "      <td>0.086518</td>\n",
       "      <td>-0.099176</td>\n",
       "      <td>-0.007368</td>\n",
       "      <td>-0.035587</td>\n",
       "      <td>-0.121515</td>\n",
       "      <td>0.048788</td>\n",
       "      <td>-0.053929</td>\n",
       "      <td>0.175260</td>\n",
       "    </tr>\n",
       "    <tr>\n",
       "      <td>NOX</td>\n",
       "      <td>0.420972</td>\n",
       "      <td>-0.516604</td>\n",
       "      <td>0.763651</td>\n",
       "      <td>0.091203</td>\n",
       "      <td>1.000000</td>\n",
       "      <td>-0.302188</td>\n",
       "      <td>0.731470</td>\n",
       "      <td>-0.769230</td>\n",
       "      <td>0.611441</td>\n",
       "      <td>0.668023</td>\n",
       "      <td>0.188933</td>\n",
       "      <td>-0.380051</td>\n",
       "      <td>0.590879</td>\n",
       "      <td>-0.427321</td>\n",
       "    </tr>\n",
       "    <tr>\n",
       "      <td>RM</td>\n",
       "      <td>-0.219247</td>\n",
       "      <td>0.311991</td>\n",
       "      <td>-0.391676</td>\n",
       "      <td>0.091251</td>\n",
       "      <td>-0.302188</td>\n",
       "      <td>1.000000</td>\n",
       "      <td>-0.240265</td>\n",
       "      <td>0.205246</td>\n",
       "      <td>-0.209847</td>\n",
       "      <td>-0.292048</td>\n",
       "      <td>-0.355501</td>\n",
       "      <td>0.128069</td>\n",
       "      <td>-0.613808</td>\n",
       "      <td>0.695360</td>\n",
       "    </tr>\n",
       "    <tr>\n",
       "      <td>AGE</td>\n",
       "      <td>0.352734</td>\n",
       "      <td>-0.569537</td>\n",
       "      <td>0.644779</td>\n",
       "      <td>0.086518</td>\n",
       "      <td>0.731470</td>\n",
       "      <td>-0.240265</td>\n",
       "      <td>1.000000</td>\n",
       "      <td>-0.747881</td>\n",
       "      <td>0.456022</td>\n",
       "      <td>0.506456</td>\n",
       "      <td>0.261515</td>\n",
       "      <td>-0.273534</td>\n",
       "      <td>0.602339</td>\n",
       "      <td>-0.376955</td>\n",
       "    </tr>\n",
       "    <tr>\n",
       "      <td>DIS</td>\n",
       "      <td>-0.379670</td>\n",
       "      <td>0.664408</td>\n",
       "      <td>-0.708027</td>\n",
       "      <td>-0.099176</td>\n",
       "      <td>-0.769230</td>\n",
       "      <td>0.205246</td>\n",
       "      <td>-0.747881</td>\n",
       "      <td>1.000000</td>\n",
       "      <td>-0.494588</td>\n",
       "      <td>-0.534432</td>\n",
       "      <td>-0.232471</td>\n",
       "      <td>0.291512</td>\n",
       "      <td>-0.496996</td>\n",
       "      <td>0.249929</td>\n",
       "    </tr>\n",
       "    <tr>\n",
       "      <td>RAD</td>\n",
       "      <td>0.625505</td>\n",
       "      <td>-0.311948</td>\n",
       "      <td>0.595129</td>\n",
       "      <td>-0.007368</td>\n",
       "      <td>0.611441</td>\n",
       "      <td>-0.209847</td>\n",
       "      <td>0.456022</td>\n",
       "      <td>-0.494588</td>\n",
       "      <td>1.000000</td>\n",
       "      <td>0.910228</td>\n",
       "      <td>0.464741</td>\n",
       "      <td>-0.444413</td>\n",
       "      <td>0.488676</td>\n",
       "      <td>-0.381626</td>\n",
       "    </tr>\n",
       "    <tr>\n",
       "      <td>TAX</td>\n",
       "      <td>0.582764</td>\n",
       "      <td>-0.314563</td>\n",
       "      <td>0.720760</td>\n",
       "      <td>-0.035587</td>\n",
       "      <td>0.668023</td>\n",
       "      <td>-0.292048</td>\n",
       "      <td>0.506456</td>\n",
       "      <td>-0.534432</td>\n",
       "      <td>0.910228</td>\n",
       "      <td>1.000000</td>\n",
       "      <td>0.460853</td>\n",
       "      <td>-0.441808</td>\n",
       "      <td>0.543993</td>\n",
       "      <td>-0.468536</td>\n",
       "    </tr>\n",
       "    <tr>\n",
       "      <td>PTRATIO</td>\n",
       "      <td>0.289946</td>\n",
       "      <td>-0.391679</td>\n",
       "      <td>0.383248</td>\n",
       "      <td>-0.121515</td>\n",
       "      <td>0.188933</td>\n",
       "      <td>-0.355501</td>\n",
       "      <td>0.261515</td>\n",
       "      <td>-0.232471</td>\n",
       "      <td>0.464741</td>\n",
       "      <td>0.460853</td>\n",
       "      <td>1.000000</td>\n",
       "      <td>-0.177383</td>\n",
       "      <td>0.374044</td>\n",
       "      <td>-0.507787</td>\n",
       "    </tr>\n",
       "    <tr>\n",
       "      <td>B</td>\n",
       "      <td>-0.385064</td>\n",
       "      <td>0.175520</td>\n",
       "      <td>-0.356977</td>\n",
       "      <td>0.048788</td>\n",
       "      <td>-0.380051</td>\n",
       "      <td>0.128069</td>\n",
       "      <td>-0.273534</td>\n",
       "      <td>0.291512</td>\n",
       "      <td>-0.444413</td>\n",
       "      <td>-0.441808</td>\n",
       "      <td>-0.177383</td>\n",
       "      <td>1.000000</td>\n",
       "      <td>-0.366087</td>\n",
       "      <td>0.333461</td>\n",
       "    </tr>\n",
       "    <tr>\n",
       "      <td>LSTAT</td>\n",
       "      <td>0.455621</td>\n",
       "      <td>-0.412995</td>\n",
       "      <td>0.603800</td>\n",
       "      <td>-0.053929</td>\n",
       "      <td>0.590879</td>\n",
       "      <td>-0.613808</td>\n",
       "      <td>0.602339</td>\n",
       "      <td>-0.496996</td>\n",
       "      <td>0.488676</td>\n",
       "      <td>0.543993</td>\n",
       "      <td>0.374044</td>\n",
       "      <td>-0.366087</td>\n",
       "      <td>1.000000</td>\n",
       "      <td>-0.737663</td>\n",
       "    </tr>\n",
       "    <tr>\n",
       "      <td>MEDV</td>\n",
       "      <td>-0.388305</td>\n",
       "      <td>0.360445</td>\n",
       "      <td>-0.483725</td>\n",
       "      <td>0.175260</td>\n",
       "      <td>-0.427321</td>\n",
       "      <td>0.695360</td>\n",
       "      <td>-0.376955</td>\n",
       "      <td>0.249929</td>\n",
       "      <td>-0.381626</td>\n",
       "      <td>-0.468536</td>\n",
       "      <td>-0.507787</td>\n",
       "      <td>0.333461</td>\n",
       "      <td>-0.737663</td>\n",
       "      <td>1.000000</td>\n",
       "    </tr>\n",
       "  </tbody>\n",
       "</table>\n",
       "</div>"
      ],
      "text/plain": [
       "             CRIM        ZN     INDUS      CHAS       NOX        RM       AGE  \\\n",
       "CRIM     1.000000 -0.200469  0.406583 -0.055892  0.420972 -0.219247  0.352734   \n",
       "ZN      -0.200469  1.000000 -0.533828 -0.042697 -0.516604  0.311991 -0.569537   \n",
       "INDUS    0.406583 -0.533828  1.000000  0.062938  0.763651 -0.391676  0.644779   \n",
       "CHAS    -0.055892 -0.042697  0.062938  1.000000  0.091203  0.091251  0.086518   \n",
       "NOX      0.420972 -0.516604  0.763651  0.091203  1.000000 -0.302188  0.731470   \n",
       "RM      -0.219247  0.311991 -0.391676  0.091251 -0.302188  1.000000 -0.240265   \n",
       "AGE      0.352734 -0.569537  0.644779  0.086518  0.731470 -0.240265  1.000000   \n",
       "DIS     -0.379670  0.664408 -0.708027 -0.099176 -0.769230  0.205246 -0.747881   \n",
       "RAD      0.625505 -0.311948  0.595129 -0.007368  0.611441 -0.209847  0.456022   \n",
       "TAX      0.582764 -0.314563  0.720760 -0.035587  0.668023 -0.292048  0.506456   \n",
       "PTRATIO  0.289946 -0.391679  0.383248 -0.121515  0.188933 -0.355501  0.261515   \n",
       "B       -0.385064  0.175520 -0.356977  0.048788 -0.380051  0.128069 -0.273534   \n",
       "LSTAT    0.455621 -0.412995  0.603800 -0.053929  0.590879 -0.613808  0.602339   \n",
       "MEDV    -0.388305  0.360445 -0.483725  0.175260 -0.427321  0.695360 -0.376955   \n",
       "\n",
       "              DIS       RAD       TAX   PTRATIO         B     LSTAT      MEDV  \n",
       "CRIM    -0.379670  0.625505  0.582764  0.289946 -0.385064  0.455621 -0.388305  \n",
       "ZN       0.664408 -0.311948 -0.314563 -0.391679  0.175520 -0.412995  0.360445  \n",
       "INDUS   -0.708027  0.595129  0.720760  0.383248 -0.356977  0.603800 -0.483725  \n",
       "CHAS    -0.099176 -0.007368 -0.035587 -0.121515  0.048788 -0.053929  0.175260  \n",
       "NOX     -0.769230  0.611441  0.668023  0.188933 -0.380051  0.590879 -0.427321  \n",
       "RM       0.205246 -0.209847 -0.292048 -0.355501  0.128069 -0.613808  0.695360  \n",
       "AGE     -0.747881  0.456022  0.506456  0.261515 -0.273534  0.602339 -0.376955  \n",
       "DIS      1.000000 -0.494588 -0.534432 -0.232471  0.291512 -0.496996  0.249929  \n",
       "RAD     -0.494588  1.000000  0.910228  0.464741 -0.444413  0.488676 -0.381626  \n",
       "TAX     -0.534432  0.910228  1.000000  0.460853 -0.441808  0.543993 -0.468536  \n",
       "PTRATIO -0.232471  0.464741  0.460853  1.000000 -0.177383  0.374044 -0.507787  \n",
       "B        0.291512 -0.444413 -0.441808 -0.177383  1.000000 -0.366087  0.333461  \n",
       "LSTAT   -0.496996  0.488676  0.543993  0.374044 -0.366087  1.000000 -0.737663  \n",
       "MEDV     0.249929 -0.381626 -0.468536 -0.507787  0.333461 -0.737663  1.000000  "
      ]
     },
     "execution_count": 11,
     "metadata": {},
     "output_type": "execute_result"
    }
   ],
   "source": [
    "df.corr()"
   ]
  },
  {
   "cell_type": "markdown",
   "metadata": {},
   "source": [
    "For better visualization purposes we can utilize seaborn to plot a heattmap of these correlations:"
   ]
  },
  {
   "cell_type": "code",
   "execution_count": 12,
   "metadata": {},
   "outputs": [
    {
     "data": {
      "image/png": "[encoded data removed]",
      "text/plain": [
       "<Figure size 1080x720 with 2 Axes>"
      ]
     },
     "metadata": {
      "needs_background": "light"
     },
     "output_type": "display_data"
    }
   ],
   "source": [
    "# generating a heatmap\n",
    "plt.figure(figsize=(15,10))\n",
    "plt.title('Heatmap')\n",
    "sns.heatmap(data=df.corr(), annot=True)\n",
    "plt.show()"
   ]
  },
  {
   "cell_type": "markdown",
   "metadata": {},
   "source": [
    "By looking at the above correlation heatmap we can easily identify that RM has a strong positive correlation with MEDV (0.7) and that LSTAT and PTRATIO have a high negative correlation with MEDV (-0.74) and (-0.51) respectively."
   ]
  },
  {
   "cell_type": "markdown",
   "metadata": {},
   "source": [
    "We were able to describe in more details the relation between the attributes and their values using the help of Python and its libraries.\n",
    "\n",
    "Next we will start covering the correlation between house prices along the river Charles using inferential statistics.\n",
    "\n",
    "*****"
   ]
  },
  {
   "cell_type": "markdown",
   "metadata": {},
   "source": [
    "## 2. Inferential"
   ]
  },
  {
   "cell_type": "markdown",
   "metadata": {},
   "source": [
    "Inferential statistics uses a sample of data set in order to describe and also make inferences about the data. The use of inferential statistics helps to make generalizations about the data.\n",
    "\n",
    "In this section I will analyze if there is significante difference in the house prices between houses that are along the Charles river and those that aren't.\n"
   ]
  },
  {
   "cell_type": "markdown",
   "metadata": {},
   "source": [
    "#### Splitting the Dataset into houses that are along the river"
   ]
  },
  {
   "cell_type": "code",
   "execution_count": 13,
   "metadata": {
    "scrolled": false
   },
   "outputs": [
    {
     "name": "stdout",
     "output_type": "stream",
     "text": [
      "\n",
      "\n",
      "Number of houses along the river: 35\n",
      "Number of houses far from the river: 471\n"
     ]
    }
   ],
   "source": [
    "#separating CHAS and MEDV in another Dataframe\n",
    "charles = ['CHAS', 'MEDV']\n",
    "dfchas = df[charles]\n",
    "\n",
    "#Filtering only the houses that are close to the charles river\n",
    "charles1 = df['CHAS']==1\n",
    "df_charles = dfchas[charles1]\n",
    "price_close = df_charles['MEDV']\n",
    "\n",
    "#houses that are far from the charles river\n",
    "far = df['CHAS']==0\n",
    "df_far = dfchas[far]\n",
    "price_far = df_far['MEDV']\n",
    "\n",
    "#printing number of houses\n",
    "print(\"\\n\")\n",
    "print(\"Number of houses along the river: \" + str(df_charles.shape[0]))\n",
    "print(\"Number of houses far from the river: \" + str(df_far.shape[0]))"
   ]
  },
  {
   "cell_type": "markdown",
   "metadata": {},
   "source": [
    "As we can see from above, we only have 35 houses close to the Charles river, and 471 that are far from the river"
   ]
  },
  {
   "cell_type": "markdown",
   "metadata": {},
   "source": [
    "#### Running a T-Test"
   ]
  },
  {
   "cell_type": "markdown",
   "metadata": {},
   "source": [
    "A T Test is a kind of inferential statistic used to determine if there is difference between the means of two samples, which may be related in certain features.\n",
    "\n",
    "The T-Test is also used as a hypothesis testing tool, in other words, it allows us of testing an assumption applicable to a given population.\n",
    "\n",
    "The T-Test assumes a null hypothesis that the two means are equal, but after running certain calculations and comparing the standard values, we can determine if the null hypothesis is accepted or rejected, which is measured as the p-value. A large p-value (usually greater than 0.05 or 0.1) means that we cannot reject the null hypothesis, as if the p-value is smaller than 1%, 5% or even 10% sometimes, then we can reject the null hypothesis of equal averages.\n",
    "\n",
    "In python we can make use of SciPy library to calculate the T-test as below: "
   ]
  },
  {
   "cell_type": "code",
   "execution_count": 14,
   "metadata": {
    "scrolled": true
   },
   "outputs": [
    {
     "data": {
      "text/plain": [
       "Ttest_indResult(statistic=-3.996437466090509, pvalue=7.390623170519905e-05)"
      ]
     },
     "execution_count": 14,
     "metadata": {},
     "output_type": "execute_result"
    }
   ],
   "source": [
    "ss.ttest_ind(price_far, price_close)"
   ]
  },
  {
   "cell_type": "markdown",
   "metadata": {},
   "source": [
    "As we can see from the above calculation, the result of the T-Test between the price close and far from the river Charles is 7.390623170519883e-05. Which makes it clear to determine that the p-value is below 1%, this would imply that we can safely reject the null hypothesis, and therefore conclude that there is indeed a difference in the mean price between houses along the river and those not along river"
   ]
  },
  {
   "cell_type": "markdown",
   "metadata": {},
   "source": [
    "#### OLS Regression"
   ]
  },
  {
   "cell_type": "code",
   "execution_count": 15,
   "metadata": {},
   "outputs": [
    {
     "name": "stdout",
     "output_type": "stream",
     "text": [
      "                            OLS Regression Results                            \n",
      "==============================================================================\n",
      "Dep. Variable:                   MEDV   R-squared:                       1.000\n",
      "Model:                            OLS   Adj. R-squared:                  1.000\n",
      "Method:                 Least Squares   F-statistic:                 6.663e+28\n",
      "Date:                Thu, 28 Nov 2019   Prob (F-statistic):               0.00\n",
      "Time:                        23:08:24   Log-Likelihood:                 1005.2\n",
      "No. Observations:                  35   AIC:                            -1992.\n",
      "Df Residuals:                      26   BIC:                            -1978.\n",
      "Df Model:                           8                                         \n",
      "Covariance Type:            nonrobust                                         \n",
      "==============================================================================\n",
      "                 coef    std err          t      P>|t|      [0.025      0.975]\n",
      "------------------------------------------------------------------------------\n",
      "CHAS       -9.237e-14   5.31e-13     -0.174      0.863   -1.18e-12       1e-12\n",
      "MEDV           1.0000   2.85e-15   3.51e+14      0.000       1.000       1.000\n",
      "CRIM        4.441e-16   1.69e-14      0.026      0.979   -3.44e-14    3.53e-14\n",
      "INDUS      -8.882e-16    9.4e-15     -0.095      0.925   -2.02e-14    1.84e-14\n",
      "NOX                 0   4.27e-13          0      1.000   -8.78e-13    8.78e-13\n",
      "AGE        -1.388e-16   1.09e-15     -0.128      0.899   -2.38e-15     2.1e-15\n",
      "RAD        -1.776e-15   1.52e-14     -0.117      0.908   -3.31e-14    2.95e-14\n",
      "TAX         8.327e-17   9.81e-16      0.085      0.933   -1.93e-15     2.1e-15\n",
      "PTRATIO     1.332e-15   1.96e-14      0.068      0.946    -3.9e-14    4.16e-14\n",
      "==============================================================================\n",
      "Omnibus:                        1.502   Durbin-Watson:                   0.003\n",
      "Prob(Omnibus):                  0.472   Jarque-Bera (JB):                0.581\n",
      "Skew:                           0.190   Prob(JB):                        0.748\n",
      "Kurtosis:                       3.504   Cond. No.                     1.73e+04\n",
      "==============================================================================\n",
      "\n",
      "Warnings:\n",
      "[1] Standard Errors assume that the covariance matrix of the errors is correctly specified.\n",
      "[2] The condition number is large, 1.73e+04. This might indicate that there are\n",
      "strong multicollinearity or other numerical problems.\n"
     ]
    }
   ],
   "source": [
    "# Separating the columns to create OLS model for houses along the river\n",
    "a=df[df['CHAS']==1][['CHAS', 'MEDV', 'CRIM', 'INDUS', 'NOX', 'AGE', 'RAD', 'TAX', 'PTRATIO']]\n",
    "b=df[df['CHAS']==1]['MEDV']\n",
    "\n",
    "# OLS Regression for houses along the charles river\n",
    "model = sm.OLS(b, a).fit()\n",
    "predictions = model.predict(a)\n",
    "print(model.summary())\n"
   ]
  },
  {
   "cell_type": "code",
   "execution_count": 16,
   "metadata": {},
   "outputs": [
    {
     "name": "stdout",
     "output_type": "stream",
     "text": [
      "                                 OLS Regression Results                                \n",
      "=======================================================================================\n",
      "Dep. Variable:                   MEDV   R-squared (uncentered):                   0.958\n",
      "Model:                            OLS   Adj. R-squared (uncentered):              0.958\n",
      "Method:                 Least Squares   F-statistic:                              1185.\n",
      "Date:                Thu, 28 Nov 2019   Prob (F-statistic):                   1.02e-312\n",
      "Time:                        23:08:24   Log-Likelihood:                         -1411.9\n",
      "No. Observations:                 471   AIC:                                      2842.\n",
      "Df Residuals:                     462   BIC:                                      2879.\n",
      "Df Model:                           9                                                  \n",
      "Covariance Type:            nonrobust                                                  \n",
      "==============================================================================\n",
      "                 coef    std err          t      P>|t|      [0.025      0.975]\n",
      "------------------------------------------------------------------------------\n",
      "RM             6.0983      0.286     21.329      0.000       5.536       6.660\n",
      "LSTAT         -0.4149      0.052     -8.044      0.000      -0.516      -0.314\n",
      "CRIM          -0.0970      0.034     -2.887      0.004      -0.163      -0.031\n",
      "INDUS          0.0095      0.061      0.157      0.875      -0.109       0.128\n",
      "NOX            4.3697      3.527      1.239      0.216      -2.562      11.302\n",
      "AGE           -0.0017      0.012     -0.140      0.889      -0.026       0.023\n",
      "RAD            0.1238      0.064      1.946      0.052      -0.001       0.249\n",
      "TAX           -0.0102      0.004     -2.736      0.006      -0.017      -0.003\n",
      "PTRATIO       -0.5362      0.093     -5.761      0.000      -0.719      -0.353\n",
      "==============================================================================\n",
      "Omnibus:                      220.783   Durbin-Watson:                   0.923\n",
      "Prob(Omnibus):                  0.000   Jarque-Bera (JB):             1603.952\n",
      "Skew:                           1.891   Prob(JB):                         0.00\n",
      "Kurtosis:                      11.212   Cond. No.                     7.04e+03\n",
      "==============================================================================\n",
      "\n",
      "Warnings:\n",
      "[1] Standard Errors assume that the covariance matrix of the errors is correctly specified.\n",
      "[2] The condition number is large, 7.04e+03. This might indicate that there are\n",
      "strong multicollinearity or other numerical problems.\n"
     ]
    }
   ],
   "source": [
    "# Separating the columns to create OLS model for houses not along the river\n",
    "c=df[df['CHAS']==0][['RM', 'LSTAT', 'CRIM', 'INDUS', 'NOX', 'AGE', 'RAD', 'TAX', 'PTRATIO']]\n",
    "d=df[df['CHAS']==0]['MEDV']\n",
    "\n",
    "# OLS Regression for houses not along the charles river\n",
    "model = sm.OLS(d, c).fit()\n",
    "predictions = model.predict(c)\n",
    "print(model.summary())"
   ]
  },
  {
   "cell_type": "markdown",
   "metadata": {},
   "source": [
    "#### Further Analysis and plotting"
   ]
  },
  {
   "cell_type": "code",
   "execution_count": 17,
   "metadata": {},
   "outputs": [
    {
     "name": "stdout",
     "output_type": "stream",
     "text": [
      "\n",
      "\n",
      "The median price for houses close to the river in $1000's is: $23.30 \n",
      "\n",
      "The median price for houses far from the river in $1000's is: $20.90\n"
     ]
    }
   ],
   "source": [
    "# checking the median price for houses along the river\n",
    "mchas1 = price_close.median()\n",
    "mchas0 = price_far.median()\n",
    "print(\"\\n\")\n",
    "print (\"The median price for houses close to the river in $1000's is: ${0:.2f}\".format(mchas1), \"\\n\")\n",
    "print (\"The median price for houses far from the river in $1000's is: ${0:.2f}\".format(mchas0))"
   ]
  },
  {
   "cell_type": "markdown",
   "metadata": {},
   "source": [
    "As we can see from the plot below, we can easily notice how the median price is slightly higher on the houses that are along the Charles river, the same can be said for the minimum/max price, although we do see some outliers with higher price on the houses that are not along the river, but that could be due to the fact that on this sample we only have 35 houses along the river, while having 471 which are not close to the river, what can cause having more outliers"
   ]
  },
  {
   "cell_type": "code",
   "execution_count": 18,
   "metadata": {
    "scrolled": false
   },
   "outputs": [
    {
     "data": {
      "image/png": "[encoded data removed]",
      "text/plain": [
       "<Figure size 360x360 with 1 Axes>"
      ]
     },
     "metadata": {
      "needs_background": "light"
     },
     "output_type": "display_data"
    }
   ],
   "source": [
    "# A boxplot and also a swarm plot so we can see all data in the background\n",
    "\n",
    "sns.catplot(x=\"CHAS\", y=\"MEDV\", data=df, kind=\"box\")\n",
    "sns.swarmplot(x=\"CHAS\", y=\"MEDV\", data=df, color=\".40\", alpha=0.3)\n",
    "plt.title('Boxplot')\n",
    "plt.show()\n",
    "# CHAS 0 means far from the river, and 1 close to ther river\n"
   ]
  },
  {
   "cell_type": "code",
   "execution_count": 19,
   "metadata": {
    "scrolled": false
   },
   "outputs": [
    {
     "data": {
      "image/png": "[encoded data removed]",
      "text/plain": [
       "<Figure size 864x864 with 1 Axes>"
      ]
     },
     "metadata": {
      "needs_background": "light"
     },
     "output_type": "display_data"
    }
   ],
   "source": [
    "# distribution plot of house prices along/not along the river\n",
    "\n",
    "plt.figure(figsize=(12, 12))\n",
    "ax1 = sns.distplot(price_close)\n",
    "ax2 = sns.distplot(price_far)"
   ]
  },
  {
   "cell_type": "markdown",
   "metadata": {},
   "source": [
    "Although the boxplots seems to show better the differences between the data, the above distribution plot can show us that both distributions have a similar shape"
   ]
  },
  {
   "cell_type": "markdown",
   "metadata": {},
   "source": [
    "*****"
   ]
  },
  {
   "cell_type": "markdown",
   "metadata": {},
   "source": [
    "## 3. Predict"
   ]
  },
  {
   "cell_type": "markdown",
   "metadata": {},
   "source": [
    "The main objective of this section is to build a working model that is able to predict the value of the Boston houses, in order to do so, I will first need to separate the dataset into features and the target variable. The features, will provide quantitative information, as the target, 'MEDV', will be the variable to predict.\n",
    "\n",
    "Also, according to my previous analysis, I identified that RM, LSTAT and PTRATIO are highly correlated, therefore it makes sense to use it as features in order to compare it with the price target MEDV.\n",
    "\n",
    "The first step necessary is to split the data using Sklearn [2] and afterwards build a model and train it with the help of Keras [3]."
   ]
  },
  {
   "cell_type": "markdown",
   "metadata": {},
   "source": [
    "#### Splitting the dataset"
   ]
  },
  {
   "cell_type": "markdown",
   "metadata": {},
   "source": [
    "When building a machine learning model, usually, we split the data set into training and testing sets, where the training set is used to train the model and the testing set to test it.\n",
    "\n",
    "After some research it seems that the most common split ratio is 70:30, but given that this is a small dataset I will be using a split ratio of 80:20. This splitting is done in order to easily model the dataset, as for the unseen data it's used to validate the model performance.\n",
    "\n"
   ]
  },
  {
   "cell_type": "code",
   "execution_count": 20,
   "metadata": {},
   "outputs": [
    {
     "name": "stdout",
     "output_type": "stream",
     "text": [
      "\n",
      "Total values of X_Train : 404\n",
      "Total values of X_Test  : 102\n",
      "\n",
      "Total values of Y_Train : 404\n",
      "Total values of Y_Test  : 102\n"
     ]
    }
   ],
   "source": [
    "#First, split the dataset\n",
    "Y = df['MEDV']\n",
    "X = df[['RM', 'LSTAT', 'PTRATIO']]\n",
    "\n",
    "# Split the inputs and outputs into training and test sets\n",
    "# random_state will set a seed to the random generator\n",
    "# test_size=0.2 represents a split ratio of 80:20.\n",
    "\n",
    "X_train, X_test, Y_train, Y_test = train_test_split(X, Y, test_size=0.2, random_state=8)\n",
    "\n",
    "\n",
    "# checking the shape of Test and Train\n",
    "print(\"\\nTotal values of X_Train :\" ,X_train.shape[0])\n",
    "print(\"Total values of X_Test  :\"   ,X_test.shape[0])\n",
    "print(\"\\nTotal values of Y_Train :\" ,Y_train.shape[0])\n",
    "print(\"Total values of Y_Test  :\"   ,Y_test.shape[0])"
   ]
  },
  {
   "cell_type": "code",
   "execution_count": 21,
   "metadata": {
    "scrolled": true
   },
   "outputs": [
    {
     "data": {
      "text/html": [
       "<div>\n",
       "<style scoped>\n",
       "    .dataframe tbody tr th:only-of-type {\n",
       "        vertical-align: middle;\n",
       "    }\n",
       "\n",
       "    .dataframe tbody tr th {\n",
       "        vertical-align: top;\n",
       "    }\n",
       "\n",
       "    .dataframe thead th {\n",
       "        text-align: right;\n",
       "    }\n",
       "</style>\n",
       "<table border=\"1\" class=\"dataframe\">\n",
       "  <thead>\n",
       "    <tr style=\"text-align: right;\">\n",
       "      <th></th>\n",
       "      <th>RM</th>\n",
       "      <th>LSTAT</th>\n",
       "      <th>PTRATIO</th>\n",
       "    </tr>\n",
       "  </thead>\n",
       "  <tbody>\n",
       "    <tr>\n",
       "      <td>337</td>\n",
       "      <td>5.895</td>\n",
       "      <td>10.56</td>\n",
       "      <td>20.2</td>\n",
       "    </tr>\n",
       "    <tr>\n",
       "      <td>30</td>\n",
       "      <td>5.713</td>\n",
       "      <td>22.60</td>\n",
       "      <td>21.0</td>\n",
       "    </tr>\n",
       "    <tr>\n",
       "      <td>364</td>\n",
       "      <td>8.780</td>\n",
       "      <td>5.29</td>\n",
       "      <td>20.2</td>\n",
       "    </tr>\n",
       "    <tr>\n",
       "      <td>240</td>\n",
       "      <td>6.897</td>\n",
       "      <td>11.38</td>\n",
       "      <td>16.6</td>\n",
       "    </tr>\n",
       "    <tr>\n",
       "      <td>162</td>\n",
       "      <td>7.802</td>\n",
       "      <td>1.92</td>\n",
       "      <td>14.7</td>\n",
       "    </tr>\n",
       "  </tbody>\n",
       "</table>\n",
       "</div>"
      ],
      "text/plain": [
       "        RM  LSTAT  PTRATIO\n",
       "337  5.895  10.56     20.2\n",
       "30   5.713  22.60     21.0\n",
       "364  8.780   5.29     20.2\n",
       "240  6.897  11.38     16.6\n",
       "162  7.802   1.92     14.7"
      ]
     },
     "execution_count": 21,
     "metadata": {},
     "output_type": "execute_result"
    }
   ],
   "source": [
    "# prints first 5 values of X_test\n",
    "X_test.iloc[0:5]"
   ]
  },
  {
   "cell_type": "code",
   "execution_count": 22,
   "metadata": {
    "scrolled": false
   },
   "outputs": [
    {
     "data": {
      "text/plain": [
       "337    18.5\n",
       "30     12.7\n",
       "364    21.9\n",
       "240    22.0\n",
       "162    50.0\n",
       "Name: MEDV, dtype: float64"
      ]
     },
     "execution_count": 22,
     "metadata": {},
     "output_type": "execute_result"
    }
   ],
   "source": [
    "# prints first 5 values of Y_test\n",
    "Y_test.iloc[0:5]"
   ]
  },
  {
   "cell_type": "code",
   "execution_count": null,
   "metadata": {},
   "outputs": [],
   "source": []
  },
  {
   "cell_type": "markdown",
   "metadata": {},
   "source": [
    "#### Building a model"
   ]
  },
  {
   "cell_type": "markdown",
   "metadata": {},
   "source": [
    "** Description of a model **"
   ]
  },
  {
   "cell_type": "code",
   "execution_count": 23,
   "metadata": {
    "scrolled": true
   },
   "outputs": [
    {
     "name": "stdout",
     "output_type": "stream",
     "text": [
      "Epoch 1/100\n",
      "404/404 [==============================] - 1s 1ms/step - loss: 211.8367 - mae: 11.2970\n",
      "Epoch 2/100\n",
      "404/404 [==============================] - 0s 249us/step - loss: 70.5686 - mae: 5.9784\n",
      "Epoch 3/100\n",
      "404/404 [==============================] - 0s 247us/step - loss: 48.7115 - mae: 5.1811\n",
      "Epoch 4/100\n",
      "404/404 [==============================] - 0s 242us/step - loss: 43.9246 - mae: 4.9147\n",
      "Epoch 5/100\n",
      "404/404 [==============================] - 0s 254us/step - loss: 39.7859 - mae: 4.6776\n",
      "Epoch 6/100\n",
      "404/404 [==============================] - 0s 252us/step - loss: 36.8854 - mae: 4.5543\n",
      "Epoch 7/100\n",
      "404/404 [==============================] - 0s 244us/step - loss: 32.1213 - mae: 4.2424\n",
      "Epoch 8/100\n",
      "404/404 [==============================] - 0s 249us/step - loss: 29.2693 - mae: 4.0707\n",
      "Epoch 9/100\n",
      "404/404 [==============================] - 0s 247us/step - loss: 27.1024 - mae: 3.8855\n",
      "Epoch 10/100\n",
      "404/404 [==============================] - 0s 247us/step - loss: 25.4603 - mae: 3.6983\n",
      "Epoch 11/100\n",
      "404/404 [==============================] - 0s 242us/step - loss: 23.4603 - mae: 3.5635\n",
      "Epoch 12/100\n",
      "404/404 [==============================] - 0s 237us/step - loss: 23.2731 - mae: 3.4930\n",
      "Epoch 13/100\n",
      "404/404 [==============================] - 0s 237us/step - loss: 22.1430 - mae: 3.4088\n",
      "Epoch 14/100\n",
      "404/404 [==============================] - 0s 235us/step - loss: 23.0849 - mae: 3.4397\n",
      "Epoch 15/100\n",
      "404/404 [==============================] - 0s 237us/step - loss: 21.4770 - mae: 3.3242\n",
      "Epoch 16/100\n",
      "404/404 [==============================] - 0s 244us/step - loss: 21.2653 - mae: 3.2658\n",
      "Epoch 17/100\n",
      "404/404 [==============================] - 0s 244us/step - loss: 20.8561 - mae: 3.1989\n",
      "Epoch 18/100\n",
      "404/404 [==============================] - 0s 252us/step - loss: 19.9202 - mae: 3.1201\n",
      "Epoch 19/100\n",
      "404/404 [==============================] - 0s 239us/step - loss: 20.8114 - mae: 3.2001\n",
      "Epoch 20/100\n",
      "404/404 [==============================] - 0s 242us/step - loss: 20.6718 - mae: 3.2000\n",
      "Epoch 21/100\n",
      "404/404 [==============================] - 0s 235us/step - loss: 19.9126 - mae: 3.0478\n",
      "Epoch 22/100\n",
      "404/404 [==============================] - 0s 232us/step - loss: 20.8452 - mae: 3.3155\n",
      "Epoch 23/100\n",
      "404/404 [==============================] - 0s 242us/step - loss: 19.8214 - mae: 3.0317\n",
      "Epoch 24/100\n",
      "404/404 [==============================] - 0s 235us/step - loss: 20.2266 - mae: 3.1235\n",
      "Epoch 25/100\n",
      "404/404 [==============================] - 0s 242us/step - loss: 21.7491 - mae: 3.2778\n",
      "Epoch 26/100\n",
      "404/404 [==============================] - 0s 235us/step - loss: 20.4267 - mae: 3.2194\n",
      "Epoch 27/100\n",
      "404/404 [==============================] - 0s 235us/step - loss: 19.9203 - mae: 3.1076\n",
      "Epoch 28/100\n",
      "404/404 [==============================] - 0s 239us/step - loss: 19.4283 - mae: 3.0615\n",
      "Epoch 29/100\n",
      "404/404 [==============================] - 0s 247us/step - loss: 19.4157 - mae: 3.0447\n",
      "Epoch 30/100\n",
      "404/404 [==============================] - 0s 239us/step - loss: 19.3350 - mae: 3.0414\n",
      "Epoch 31/100\n",
      "404/404 [==============================] - 0s 247us/step - loss: 20.5812 - mae: 3.1850\n",
      "Epoch 32/100\n",
      "404/404 [==============================] - 0s 235us/step - loss: 20.0234 - mae: 3.1210\n",
      "Epoch 33/100\n",
      "404/404 [==============================] - 0s 235us/step - loss: 19.6564 - mae: 3.0648\n",
      "Epoch 34/100\n",
      "404/404 [==============================] - 0s 242us/step - loss: 19.9500 - mae: 3.1347\n",
      "Epoch 35/100\n",
      "404/404 [==============================] - 0s 239us/step - loss: 18.9722 - mae: 3.0090\n",
      "Epoch 36/100\n",
      "404/404 [==============================] - 0s 242us/step - loss: 19.3061 - mae: 3.0502\n",
      "Epoch 37/100\n",
      "404/404 [==============================] - 0s 237us/step - loss: 19.1619 - mae: 3.0083\n",
      "Epoch 38/100\n",
      "404/404 [==============================] - 0s 239us/step - loss: 19.0495 - mae: 3.0254\n",
      "Epoch 39/100\n",
      "404/404 [==============================] - 0s 237us/step - loss: 20.2145 - mae: 3.2854\n",
      "Epoch 40/100\n",
      "404/404 [==============================] - 0s 239us/step - loss: 19.3177 - mae: 3.0193\n",
      "Epoch 41/100\n",
      "404/404 [==============================] - 0s 230us/step - loss: 20.3445 - mae: 3.1837\n",
      "Epoch 42/100\n",
      "404/404 [==============================] - 0s 237us/step - loss: 18.8058 - mae: 3.0174\n",
      "Epoch 43/100\n",
      "404/404 [==============================] - 0s 239us/step - loss: 18.6546 - mae: 2.9785\n",
      "Epoch 44/100\n",
      "404/404 [==============================] - 0s 235us/step - loss: 20.1839 - mae: 3.2180\n",
      "Epoch 45/100\n",
      "404/404 [==============================] - 0s 239us/step - loss: 18.0278 - mae: 2.9684\n",
      "Epoch 46/100\n",
      "404/404 [==============================] - 0s 239us/step - loss: 18.7136 - mae: 3.0182\n",
      "Epoch 47/100\n",
      "404/404 [==============================] - 0s 237us/step - loss: 19.2458 - mae: 3.0364\n",
      "Epoch 48/100\n",
      "404/404 [==============================] - 0s 235us/step - loss: 19.0776 - mae: 3.0223\n",
      "Epoch 49/100\n",
      "404/404 [==============================] - 0s 242us/step - loss: 18.8009 - mae: 3.0385\n",
      "Epoch 50/100\n",
      "404/404 [==============================] - 0s 244us/step - loss: 19.4144 - mae: 3.0399\n",
      "Epoch 51/100\n",
      "404/404 [==============================] - 0s 239us/step - loss: 18.5207 - mae: 3.0498\n",
      "Epoch 52/100\n",
      "404/404 [==============================] - 0s 232us/step - loss: 18.8289 - mae: 3.0113\n",
      "Epoch 53/100\n",
      "404/404 [==============================] - 0s 235us/step - loss: 18.9402 - mae: 3.0561\n",
      "Epoch 54/100\n",
      "404/404 [==============================] - 0s 235us/step - loss: 19.4321 - mae: 3.0595\n",
      "Epoch 55/100\n",
      "404/404 [==============================] - 0s 237us/step - loss: 19.7742 - mae: 3.1584\n",
      "Epoch 56/100\n",
      "404/404 [==============================] - 0s 237us/step - loss: 18.1587 - mae: 2.9507\n",
      "Epoch 57/100\n",
      "404/404 [==============================] - 0s 235us/step - loss: 18.5301 - mae: 3.0107\n",
      "Epoch 58/100\n",
      "404/404 [==============================] - 0s 239us/step - loss: 18.2182 - mae: 2.9908\n",
      "Epoch 59/100\n",
      "404/404 [==============================] - 0s 247us/step - loss: 18.6191 - mae: 2.9839\n",
      "Epoch 60/100\n",
      "404/404 [==============================] - 0s 239us/step - loss: 18.0418 - mae: 2.9564\n",
      "Epoch 61/100\n",
      "404/404 [==============================] - 0s 247us/step - loss: 18.9675 - mae: 3.0862\n",
      "Epoch 62/100\n",
      "404/404 [==============================] - 0s 237us/step - loss: 18.2682 - mae: 2.9805\n",
      "Epoch 63/100\n",
      "404/404 [==============================] - 0s 235us/step - loss: 18.2096 - mae: 3.0294\n",
      "Epoch 64/100\n",
      "404/404 [==============================] - 0s 242us/step - loss: 18.2249 - mae: 2.9579\n",
      "Epoch 65/100\n",
      "404/404 [==============================] - 0s 242us/step - loss: 19.0992 - mae: 3.0714\n",
      "Epoch 66/100\n",
      "404/404 [==============================] - 0s 242us/step - loss: 18.8605 - mae: 3.0396\n",
      "Epoch 67/100\n",
      "404/404 [==============================] - 0s 239us/step - loss: 18.0605 - mae: 2.9691\n",
      "Epoch 68/100\n",
      "404/404 [==============================] - 0s 239us/step - loss: 18.3917 - mae: 3.0318\n",
      "Epoch 69/100\n",
      "404/404 [==============================] - 0s 244us/step - loss: 18.7712 - mae: 3.0472\n",
      "Epoch 70/100\n",
      "404/404 [==============================] - 0s 237us/step - loss: 18.8748 - mae: 3.0851\n",
      "Epoch 71/100\n",
      "404/404 [==============================] - 0s 249us/step - loss: 18.5315 - mae: 3.0616\n",
      "Epoch 72/100\n",
      "404/404 [==============================] - 0s 237us/step - loss: 18.2642 - mae: 2.9639\n",
      "Epoch 73/100\n",
      "404/404 [==============================] - 0s 242us/step - loss: 17.4347 - mae: 2.8813\n",
      "Epoch 74/100\n",
      "404/404 [==============================] - 0s 235us/step - loss: 18.1729 - mae: 3.0134\n",
      "Epoch 75/100\n",
      "404/404 [==============================] - 0s 244us/step - loss: 17.5149 - mae: 2.9029\n",
      "Epoch 76/100\n",
      "404/404 [==============================] - 0s 237us/step - loss: 18.0130 - mae: 2.9282\n",
      "Epoch 77/100\n",
      "404/404 [==============================] - 0s 244us/step - loss: 17.2953 - mae: 2.9317\n",
      "Epoch 78/100\n",
      "404/404 [==============================] - 0s 239us/step - loss: 18.0894 - mae: 2.9963\n",
      "Epoch 79/100\n",
      "404/404 [==============================] - 0s 252us/step - loss: 18.2768 - mae: 2.9837\n",
      "Epoch 80/100\n",
      "404/404 [==============================] - 0s 242us/step - loss: 18.3006 - mae: 3.0276\n",
      "Epoch 81/100\n",
      "404/404 [==============================] - 0s 244us/step - loss: 17.2210 - mae: 2.9254\n",
      "Epoch 82/100\n",
      "404/404 [==============================] - 0s 242us/step - loss: 17.4916 - mae: 2.8693\n",
      "Epoch 83/100\n"
     ]
    },
    {
     "name": "stdout",
     "output_type": "stream",
     "text": [
      "404/404 [==============================] - 0s 242us/step - loss: 18.5511 - mae: 3.0504\n",
      "Epoch 84/100\n",
      "404/404 [==============================] - 0s 239us/step - loss: 18.3964 - mae: 3.0182\n",
      "Epoch 85/100\n",
      "404/404 [==============================] - 0s 244us/step - loss: 17.9019 - mae: 2.9583\n",
      "Epoch 86/100\n",
      "404/404 [==============================] - 0s 239us/step - loss: 17.7999 - mae: 2.9398\n",
      "Epoch 87/100\n",
      "404/404 [==============================] - 0s 242us/step - loss: 17.4995 - mae: 2.9793\n",
      "Epoch 88/100\n",
      "404/404 [==============================] - 0s 239us/step - loss: 18.4894 - mae: 3.0620\n",
      "Epoch 89/100\n",
      "404/404 [==============================] - 0s 247us/step - loss: 17.6570 - mae: 2.9479\n",
      "Epoch 90/100\n",
      "404/404 [==============================] - 0s 235us/step - loss: 17.3378 - mae: 2.9180\n",
      "Epoch 91/100\n",
      "404/404 [==============================] - 0s 242us/step - loss: 17.8204 - mae: 2.9941\n",
      "Epoch 92/100\n",
      "404/404 [==============================] - 0s 242us/step - loss: 17.6688 - mae: 3.0110\n",
      "Epoch 93/100\n",
      "404/404 [==============================] - 0s 239us/step - loss: 17.8460 - mae: 2.9886\n",
      "Epoch 94/100\n",
      "404/404 [==============================] - 0s 239us/step - loss: 17.5869 - mae: 2.9960\n",
      "Epoch 95/100\n",
      "404/404 [==============================] - 0s 244us/step - loss: 17.8609 - mae: 2.9947\n",
      "Epoch 96/100\n",
      "404/404 [==============================] - 0s 237us/step - loss: 17.6500 - mae: 2.9607\n",
      "Epoch 97/100\n",
      "404/404 [==============================] - 0s 239us/step - loss: 17.7458 - mae: 2.9796\n",
      "Epoch 98/100\n",
      "404/404 [==============================] - 0s 244us/step - loss: 17.4123 - mae: 2.9459\n",
      "Epoch 99/100\n",
      "404/404 [==============================] - 0s 247us/step - loss: 17.4733 - mae: 2.8866\n",
      "Epoch 100/100\n",
      "404/404 [==============================] - 0s 237us/step - loss: 16.7252 - mae: 2.9207\n"
     ]
    },
    {
     "data": {
      "text/plain": [
       "<keras.callbacks.callbacks.History at 0x1e420a0a1c8>"
      ]
     },
     "execution_count": 23,
     "metadata": {},
     "output_type": "execute_result"
    }
   ],
   "source": [
    "# Create a new neural network.\n",
    "m = kr.models.Sequential()\n",
    "\n",
    "# Add neurons.\n",
    "\n",
    "# Add neurons\n",
    "m.add(kr.layers.Dense(140, input_dim=3, activation='relu'))\n",
    "m.add(kr.layers.Dense(60, activation=\"relu\"))\n",
    "m.add(kr.layers.Dense(30, activation=\"relu\"))\n",
    "m.add(kr.layers.Dense(1)) #the activation here is linear\n",
    "\n",
    "# Compile the model.\n",
    "m.compile(loss=\"mse\", optimizer=\"adam\", metrics = ['mae'])\n",
    "\n",
    "# Train the model.\n",
    "m.fit(X_train, Y_train, epochs=100, batch_size=8)\n"
   ]
  },
  {
   "cell_type": "code",
   "execution_count": 24,
   "metadata": {
    "scrolled": false
   },
   "outputs": [
    {
     "name": "stdout",
     "output_type": "stream",
     "text": [
      "102/102 [==============================] - 0s 1ms/step\n"
     ]
    },
    {
     "data": {
      "text/plain": [
       "[25.591787646798526, 3.583181858062744]"
      ]
     },
     "execution_count": 24,
     "metadata": {},
     "output_type": "execute_result"
    }
   ],
   "source": [
    "m.evaluate(X_test, Y_test)"
   ]
  },
  {
   "cell_type": "markdown",
   "metadata": {},
   "source": [
    "#### Predict"
   ]
  },
  {
   "cell_type": "code",
   "execution_count": 25,
   "metadata": {
    "scrolled": false
   },
   "outputs": [
    {
     "data": {
      "text/plain": [
       "array([[21.213926 ],\n",
       "       [11.1318245],\n",
       "       [43.519527 ],\n",
       "       [25.10591  ],\n",
       "       [49.99329  ]], dtype=float32)"
      ]
     },
     "execution_count": 25,
     "metadata": {},
     "output_type": "execute_result"
    }
   ],
   "source": [
    "# Have the network predict the test inputs.\n",
    "predictions = m.predict(X_test)\n",
    "predictions[0:5]"
   ]
  },
  {
   "cell_type": "code",
   "execution_count": 26,
   "metadata": {
    "scrolled": false
   },
   "outputs": [
    {
     "data": {
      "text/html": [
       "<div>\n",
       "<style scoped>\n",
       "    .dataframe tbody tr th:only-of-type {\n",
       "        vertical-align: middle;\n",
       "    }\n",
       "\n",
       "    .dataframe tbody tr th {\n",
       "        vertical-align: top;\n",
       "    }\n",
       "\n",
       "    .dataframe thead th {\n",
       "        text-align: right;\n",
       "    }\n",
       "</style>\n",
       "<table border=\"1\" class=\"dataframe\">\n",
       "  <thead>\n",
       "    <tr style=\"text-align: right;\">\n",
       "      <th></th>\n",
       "      <th>Original Price</th>\n",
       "      <th>Predicted Price</th>\n",
       "    </tr>\n",
       "  </thead>\n",
       "  <tbody>\n",
       "    <tr>\n",
       "      <td>0</td>\n",
       "      <td>18.5</td>\n",
       "      <td>21.213926</td>\n",
       "    </tr>\n",
       "    <tr>\n",
       "      <td>1</td>\n",
       "      <td>12.7</td>\n",
       "      <td>11.131824</td>\n",
       "    </tr>\n",
       "    <tr>\n",
       "      <td>2</td>\n",
       "      <td>21.9</td>\n",
       "      <td>43.519527</td>\n",
       "    </tr>\n",
       "    <tr>\n",
       "      <td>3</td>\n",
       "      <td>22.0</td>\n",
       "      <td>25.105909</td>\n",
       "    </tr>\n",
       "    <tr>\n",
       "      <td>4</td>\n",
       "      <td>50.0</td>\n",
       "      <td>49.993290</td>\n",
       "    </tr>\n",
       "    <tr>\n",
       "      <td>5</td>\n",
       "      <td>36.2</td>\n",
       "      <td>21.473845</td>\n",
       "    </tr>\n",
       "    <tr>\n",
       "      <td>6</td>\n",
       "      <td>16.5</td>\n",
       "      <td>13.755202</td>\n",
       "    </tr>\n",
       "    <tr>\n",
       "      <td>7</td>\n",
       "      <td>32.4</td>\n",
       "      <td>34.084126</td>\n",
       "    </tr>\n",
       "    <tr>\n",
       "      <td>8</td>\n",
       "      <td>24.6</td>\n",
       "      <td>25.861168</td>\n",
       "    </tr>\n",
       "    <tr>\n",
       "      <td>9</td>\n",
       "      <td>50.0</td>\n",
       "      <td>38.979916</td>\n",
       "    </tr>\n",
       "  </tbody>\n",
       "</table>\n",
       "</div>"
      ],
      "text/plain": [
       "   Original Price  Predicted Price\n",
       "0            18.5        21.213926\n",
       "1            12.7        11.131824\n",
       "2            21.9        43.519527\n",
       "3            22.0        25.105909\n",
       "4            50.0        49.993290\n",
       "5            36.2        21.473845\n",
       "6            16.5        13.755202\n",
       "7            32.4        34.084126\n",
       "8            24.6        25.861168\n",
       "9            50.0        38.979916"
      ]
     },
     "execution_count": 26,
     "metadata": {},
     "output_type": "execute_result"
    }
   ],
   "source": [
    "# Comparing the predictions to the original house prices\n",
    "\n",
    "#needed to reshape the predictions to have same dimension as Y_test\n",
    "\n",
    "# Create a dataframe to store the predicted prices and Original price (Y_test) \n",
    "df_predict = pd.DataFrame({\"Original Price\":Y_test.values,\"Predicted Price\":predictions.reshape((102,))}) \n",
    "# Print head of the dataframe\n",
    "df_predict.head(10)"
   ]
  },
  {
   "cell_type": "code",
   "execution_count": 27,
   "metadata": {},
   "outputs": [
    {
     "data": {
      "text/plain": [
       "<matplotlib.legend.Legend at 0x1e41f8f60c8>"
      ]
     },
     "execution_count": 27,
     "metadata": {},
     "output_type": "execute_result"
    },
    {
     "data": {
      "image/png": "[encoded data removed]",
      "text/plain": [
       "<Figure size 432x288 with 1 Axes>"
      ]
     },
     "metadata": {
      "needs_background": "light"
     },
     "output_type": "display_data"
    }
   ],
   "source": [
    "# Plot the prediction\n",
    "\n",
    "plt.plot(predictions, 'r-', label='Prediction')\n",
    "plt.plot(Y_test.values, 'k:', label='Original')\n",
    "plt.rcParams['figure.figsize'] = (20, 10)\n",
    "\n",
    "plt.legend()"
   ]
  },
  {
   "cell_type": "markdown",
   "metadata": {},
   "source": [
    "So as we can see from the df above, the predicted price is fairly matching the desired output, but it's not doing a great job, we could try and getting a better approximation, in order to do so, we can normalize the data\n",
    "\n",
    "\n",
    "** add more about normalisation **\n",
    "\n",
    "\n",
    "    Normalization is used to re-scale the data between a specified range, to ensure that certain features do not affect the final prediction more than the other features.\n"
   ]
  },
  {
   "cell_type": "code",
   "execution_count": 28,
   "metadata": {},
   "outputs": [],
   "source": [
    "# Normalizing the features (adapted from https://www.kaggle.com/shanekonaung/boston-housing-price-dataset-with-keras)\n",
    "\n",
    "mean = X_train.mean(axis=0)\n",
    "X_train -= mean\n",
    "std = X_train.std(axis=0)\n",
    "X_train /= std\n",
    "\n",
    "X_test -= mean\n",
    "X_test /= std"
   ]
  },
  {
   "cell_type": "code",
   "execution_count": 29,
   "metadata": {
    "scrolled": true
   },
   "outputs": [
    {
     "data": {
      "text/html": [
       "<div>\n",
       "<style scoped>\n",
       "    .dataframe tbody tr th:only-of-type {\n",
       "        vertical-align: middle;\n",
       "    }\n",
       "\n",
       "    .dataframe tbody tr th {\n",
       "        vertical-align: top;\n",
       "    }\n",
       "\n",
       "    .dataframe thead th {\n",
       "        text-align: right;\n",
       "    }\n",
       "</style>\n",
       "<table border=\"1\" class=\"dataframe\">\n",
       "  <thead>\n",
       "    <tr style=\"text-align: right;\">\n",
       "      <th></th>\n",
       "      <th>RM</th>\n",
       "      <th>LSTAT</th>\n",
       "      <th>PTRATIO</th>\n",
       "    </tr>\n",
       "  </thead>\n",
       "  <tbody>\n",
       "    <tr>\n",
       "      <td>337</td>\n",
       "      <td>-0.561360</td>\n",
       "      <td>-0.289762</td>\n",
       "      <td>0.803208</td>\n",
       "    </tr>\n",
       "    <tr>\n",
       "      <td>30</td>\n",
       "      <td>-0.823180</td>\n",
       "      <td>1.426042</td>\n",
       "      <td>1.170233</td>\n",
       "    </tr>\n",
       "    <tr>\n",
       "      <td>364</td>\n",
       "      <td>3.588918</td>\n",
       "      <td>-1.040782</td>\n",
       "      <td>0.803208</td>\n",
       "    </tr>\n",
       "    <tr>\n",
       "      <td>240</td>\n",
       "      <td>0.880089</td>\n",
       "      <td>-0.172905</td>\n",
       "      <td>-0.848404</td>\n",
       "    </tr>\n",
       "    <tr>\n",
       "      <td>162</td>\n",
       "      <td>2.181996</td>\n",
       "      <td>-1.521036</td>\n",
       "      <td>-1.720089</td>\n",
       "    </tr>\n",
       "  </tbody>\n",
       "</table>\n",
       "</div>"
      ],
      "text/plain": [
       "           RM     LSTAT   PTRATIO\n",
       "337 -0.561360 -0.289762  0.803208\n",
       "30  -0.823180  1.426042  1.170233\n",
       "364  3.588918 -1.040782  0.803208\n",
       "240  0.880089 -0.172905 -0.848404\n",
       "162  2.181996 -1.521036 -1.720089"
      ]
     },
     "execution_count": 29,
     "metadata": {},
     "output_type": "execute_result"
    }
   ],
   "source": [
    "#printing X_test after normalization\n",
    "X_test.iloc[0:5]"
   ]
  },
  {
   "cell_type": "code",
   "execution_count": 30,
   "metadata": {
    "scrolled": true
   },
   "outputs": [
    {
     "name": "stdout",
     "output_type": "stream",
     "text": [
      "Epoch 1/100\n",
      "404/404 [==============================] - 0s 289us/step - loss: 60.2157 - mae: 5.6786\n",
      "Epoch 2/100\n",
      "404/404 [==============================] - 0s 276us/step - loss: 19.5323 - mae: 3.1461\n",
      "Epoch 3/100\n",
      "404/404 [==============================] - 0s 284us/step - loss: 18.7124 - mae: 3.0301\n",
      "Epoch 4/100\n",
      "404/404 [==============================] - 0s 259us/step - loss: 18.0267 - mae: 2.9644\n",
      "Epoch 5/100\n",
      "404/404 [==============================] - 0s 254us/step - loss: 17.6178 - mae: 2.9530\n",
      "Epoch 6/100\n",
      "404/404 [==============================] - 0s 249us/step - loss: 17.6547 - mae: 2.8580\n",
      "Epoch 7/100\n",
      "404/404 [==============================] - 0s 247us/step - loss: 17.5118 - mae: 2.9249\n",
      "Epoch 8/100\n",
      "404/404 [==============================] - 0s 244us/step - loss: 17.3465 - mae: 2.8437\n",
      "Epoch 9/100\n",
      "404/404 [==============================] - 0s 249us/step - loss: 17.0380 - mae: 2.8297\n",
      "Epoch 10/100\n",
      "404/404 [==============================] - 0s 252us/step - loss: 16.9237 - mae: 2.8777\n",
      "Epoch 11/100\n",
      "404/404 [==============================] - 0s 262us/step - loss: 16.8456 - mae: 2.8140\n",
      "Epoch 12/100\n",
      "404/404 [==============================] - 0s 254us/step - loss: 16.6404 - mae: 2.8142\n",
      "Epoch 13/100\n",
      "404/404 [==============================] - 0s 239us/step - loss: 16.2924 - mae: 2.7994\n",
      "Epoch 14/100\n",
      "404/404 [==============================] - 0s 239us/step - loss: 16.8068 - mae: 2.8031\n",
      "Epoch 15/100\n",
      "404/404 [==============================] - 0s 239us/step - loss: 16.0989 - mae: 2.7844\n",
      "Epoch 16/100\n",
      "404/404 [==============================] - 0s 237us/step - loss: 16.4053 - mae: 2.7398\n",
      "Epoch 17/100\n",
      "404/404 [==============================] - 0s 247us/step - loss: 16.1836 - mae: 2.7486\n",
      "Epoch 18/100\n",
      "404/404 [==============================] - 0s 237us/step - loss: 15.7283 - mae: 2.7028\n",
      "Epoch 19/100\n",
      "404/404 [==============================] - 0s 244us/step - loss: 15.8380 - mae: 2.7105\n",
      "Epoch 20/100\n",
      "404/404 [==============================] - 0s 269us/step - loss: 15.6241 - mae: 2.7204\n",
      "Epoch 21/100\n",
      "404/404 [==============================] - 0s 239us/step - loss: 15.7558 - mae: 2.7155\n",
      "Epoch 22/100\n",
      "404/404 [==============================] - 0s 262us/step - loss: 15.1424 - mae: 2.5955\n",
      "Epoch 23/100\n",
      "404/404 [==============================] - 0s 343us/step - loss: 15.7145 - mae: 2.7780\n",
      "Epoch 24/100\n",
      "404/404 [==============================] - 0s 235us/step - loss: 15.6101 - mae: 2.6617\n",
      "Epoch 25/100\n",
      "404/404 [==============================] - 0s 237us/step - loss: 15.7156 - mae: 2.7003\n",
      "Epoch 26/100\n",
      "404/404 [==============================] - 0s 257us/step - loss: 15.0884 - mae: 2.5910\n",
      "Epoch 27/100\n",
      "404/404 [==============================] - 0s 254us/step - loss: 15.2011 - mae: 2.5784\n",
      "Epoch 28/100\n",
      "404/404 [==============================] - 0s 249us/step - loss: 15.5067 - mae: 2.6799\n",
      "Epoch 29/100\n",
      "404/404 [==============================] - 0s 264us/step - loss: 15.4303 - mae: 2.6652\n",
      "Epoch 30/100\n",
      "404/404 [==============================] - 0s 244us/step - loss: 15.3075 - mae: 2.6492\n",
      "Epoch 31/100\n",
      "404/404 [==============================] - 0s 254us/step - loss: 15.2944 - mae: 2.6370\n",
      "Epoch 32/100\n",
      "404/404 [==============================] - 0s 249us/step - loss: 15.0317 - mae: 2.6197\n",
      "Epoch 33/100\n",
      "404/404 [==============================] - 0s 247us/step - loss: 15.1116 - mae: 2.6061\n",
      "Epoch 34/100\n",
      "404/404 [==============================] - 0s 259us/step - loss: 14.9390 - mae: 2.6087\n",
      "Epoch 35/100\n",
      "404/404 [==============================] - 0s 237us/step - loss: 14.9268 - mae: 2.6041\n",
      "Epoch 36/100\n",
      "404/404 [==============================] - 0s 235us/step - loss: 15.1454 - mae: 2.6353\n",
      "Epoch 37/100\n",
      "404/404 [==============================] - 0s 249us/step - loss: 14.8042 - mae: 2.5800\n",
      "Epoch 38/100\n",
      "404/404 [==============================] - 0s 235us/step - loss: 14.7595 - mae: 2.6017\n",
      "Epoch 39/100\n",
      "404/404 [==============================] - 0s 239us/step - loss: 14.9653 - mae: 2.5882\n",
      "Epoch 40/100\n",
      "404/404 [==============================] - 0s 239us/step - loss: 14.6339 - mae: 2.6061\n",
      "Epoch 41/100\n",
      "404/404 [==============================] - 0s 242us/step - loss: 14.8473 - mae: 2.6144\n",
      "Epoch 42/100\n",
      "404/404 [==============================] - 0s 276us/step - loss: 14.6378 - mae: 2.6034\n",
      "Epoch 43/100\n",
      "404/404 [==============================] - 0s 254us/step - loss: 14.5568 - mae: 2.5671\n",
      "Epoch 44/100\n",
      "404/404 [==============================] - 0s 242us/step - loss: 14.8476 - mae: 2.6197\n",
      "Epoch 45/100\n",
      "404/404 [==============================] - 0s 254us/step - loss: 14.5933 - mae: 2.5321\n",
      "Epoch 46/100\n",
      "404/404 [==============================] - 0s 249us/step - loss: 15.1406 - mae: 2.6841\n",
      "Epoch 47/100\n",
      "404/404 [==============================] - 0s 239us/step - loss: 14.8568 - mae: 2.7010\n",
      "Epoch 48/100\n",
      "404/404 [==============================] - 0s 239us/step - loss: 14.6074 - mae: 2.5605\n",
      "Epoch 49/100\n",
      "404/404 [==============================] - 0s 244us/step - loss: 14.5226 - mae: 2.5983\n",
      "Epoch 50/100\n",
      "404/404 [==============================] - 0s 244us/step - loss: 14.8897 - mae: 2.6197\n",
      "Epoch 51/100\n",
      "404/404 [==============================] - 0s 237us/step - loss: 14.3530 - mae: 2.5127\n",
      "Epoch 52/100\n",
      "404/404 [==============================] - 0s 239us/step - loss: 14.3988 - mae: 2.5932\n",
      "Epoch 53/100\n",
      "404/404 [==============================] - 0s 242us/step - loss: 14.3430 - mae: 2.5328\n",
      "Epoch 54/100\n",
      "404/404 [==============================] - 0s 237us/step - loss: 14.2895 - mae: 2.5600\n",
      "Epoch 55/100\n",
      "404/404 [==============================] - 0s 237us/step - loss: 14.6419 - mae: 2.5703\n",
      "Epoch 56/100\n",
      "404/404 [==============================] - 0s 237us/step - loss: 14.0203 - mae: 2.5127\n",
      "Epoch 57/100\n",
      "404/404 [==============================] - 0s 242us/step - loss: 15.2458 - mae: 2.5988\n",
      "Epoch 58/100\n",
      "404/404 [==============================] - 0s 237us/step - loss: 14.0821 - mae: 2.5181\n",
      "Epoch 59/100\n",
      "404/404 [==============================] - 0s 272us/step - loss: 14.0292 - mae: 2.5468\n",
      "Epoch 60/100\n",
      "404/404 [==============================] - 0s 232us/step - loss: 14.2108 - mae: 2.5530\n",
      "Epoch 61/100\n",
      "404/404 [==============================] - 0s 242us/step - loss: 14.2344 - mae: 2.5652\n",
      "Epoch 62/100\n",
      "404/404 [==============================] - 0s 244us/step - loss: 14.0259 - mae: 2.5063\n",
      "Epoch 63/100\n",
      "404/404 [==============================] - 0s 237us/step - loss: 14.4639 - mae: 2.5551\n",
      "Epoch 64/100\n",
      "404/404 [==============================] - 0s 237us/step - loss: 14.1538 - mae: 2.5130\n",
      "Epoch 65/100\n",
      "404/404 [==============================] - 0s 239us/step - loss: 13.9292 - mae: 2.5533\n",
      "Epoch 66/100\n",
      "404/404 [==============================] - 0s 244us/step - loss: 14.0102 - mae: 2.5315\n",
      "Epoch 67/100\n",
      "404/404 [==============================] - 0s 235us/step - loss: 13.6456 - mae: 2.4830\n",
      "Epoch 68/100\n",
      "404/404 [==============================] - 0s 239us/step - loss: 14.4457 - mae: 2.5592\n",
      "Epoch 69/100\n",
      "404/404 [==============================] - 0s 244us/step - loss: 14.0845 - mae: 2.6106\n",
      "Epoch 70/100\n",
      "404/404 [==============================] - 0s 242us/step - loss: 13.8540 - mae: 2.4931\n",
      "Epoch 71/100\n",
      "404/404 [==============================] - 0s 239us/step - loss: 14.3296 - mae: 2.5808\n",
      "Epoch 72/100\n",
      "404/404 [==============================] - 0s 239us/step - loss: 14.0049 - mae: 2.5152\n",
      "Epoch 73/100\n",
      "404/404 [==============================] - 0s 244us/step - loss: 14.1425 - mae: 2.5923\n",
      "Epoch 74/100\n",
      "404/404 [==============================] - 0s 239us/step - loss: 13.5480 - mae: 2.5135\n",
      "Epoch 75/100\n",
      "404/404 [==============================] - 0s 239us/step - loss: 13.6313 - mae: 2.5075\n",
      "Epoch 76/100\n",
      "404/404 [==============================] - 0s 247us/step - loss: 13.4554 - mae: 2.4938\n",
      "Epoch 77/100\n",
      "404/404 [==============================] - 0s 247us/step - loss: 13.4284 - mae: 2.4248\n",
      "Epoch 78/100\n",
      "404/404 [==============================] - 0s 239us/step - loss: 13.7501 - mae: 2.5423\n",
      "Epoch 79/100\n",
      "404/404 [==============================] - 0s 247us/step - loss: 13.4299 - mae: 2.4986\n",
      "Epoch 80/100\n",
      "404/404 [==============================] - 0s 244us/step - loss: 13.8591 - mae: 2.5187\n",
      "Epoch 81/100\n",
      "404/404 [==============================] - 0s 237us/step - loss: 13.8330 - mae: 2.5504\n",
      "Epoch 82/100\n",
      "404/404 [==============================] - 0s 242us/step - loss: 13.6344 - mae: 2.4951\n",
      "Epoch 83/100\n"
     ]
    },
    {
     "name": "stdout",
     "output_type": "stream",
     "text": [
      "404/404 [==============================] - 0s 244us/step - loss: 13.8474 - mae: 2.5775\n",
      "Epoch 84/100\n",
      "404/404 [==============================] - 0s 239us/step - loss: 13.5918 - mae: 2.4898\n",
      "Epoch 85/100\n",
      "404/404 [==============================] - 0s 235us/step - loss: 13.4265 - mae: 2.4657\n",
      "Epoch 86/100\n",
      "404/404 [==============================] - 0s 244us/step - loss: 13.2157 - mae: 2.4222\n",
      "Epoch 87/100\n",
      "404/404 [==============================] - 0s 239us/step - loss: 13.4240 - mae: 2.5069\n",
      "Epoch 88/100\n",
      "404/404 [==============================] - 0s 237us/step - loss: 13.7769 - mae: 2.4999\n",
      "Epoch 89/100\n",
      "404/404 [==============================] - 0s 244us/step - loss: 13.0990 - mae: 2.4436\n",
      "Epoch 90/100\n",
      "404/404 [==============================] - 0s 239us/step - loss: 13.2665 - mae: 2.4886\n",
      "Epoch 91/100\n",
      "404/404 [==============================] - 0s 237us/step - loss: 13.5545 - mae: 2.4839\n",
      "Epoch 92/100\n",
      "404/404 [==============================] - 0s 239us/step - loss: 13.4554 - mae: 2.4746\n",
      "Epoch 93/100\n",
      "404/404 [==============================] - 0s 239us/step - loss: 13.1850 - mae: 2.4291\n",
      "Epoch 94/100\n",
      "404/404 [==============================] - 0s 237us/step - loss: 13.3081 - mae: 2.4820\n",
      "Epoch 95/100\n",
      "404/404 [==============================] - 0s 239us/step - loss: 13.7899 - mae: 2.5052\n",
      "Epoch 96/100\n",
      "404/404 [==============================] - 0s 244us/step - loss: 13.2978 - mae: 2.4942\n",
      "Epoch 97/100\n",
      "404/404 [==============================] - 0s 239us/step - loss: 12.8297 - mae: 2.3887\n",
      "Epoch 98/100\n",
      "404/404 [==============================] - 0s 237us/step - loss: 13.2188 - mae: 2.5240\n",
      "Epoch 99/100\n",
      "404/404 [==============================] - 0s 249us/step - loss: 13.2472 - mae: 2.4191\n",
      "Epoch 100/100\n",
      "404/404 [==============================] - 0s 239us/step - loss: 13.2822 - mae: 2.4770\n"
     ]
    }
   ],
   "source": [
    "# Train the model after normalization\n",
    "history = m.fit(X_train, Y_train, epochs=100, batch_size=8)"
   ]
  },
  {
   "cell_type": "code",
   "execution_count": 31,
   "metadata": {
    "scrolled": false
   },
   "outputs": [
    {
     "name": "stdout",
     "output_type": "stream",
     "text": [
      "102/102 [==============================] - 0s 78us/step\n"
     ]
    },
    {
     "data": {
      "text/plain": [
       "[22.121279566895726, 3.281614303588867]"
      ]
     },
     "execution_count": 31,
     "metadata": {},
     "output_type": "execute_result"
    }
   ],
   "source": [
    "m.evaluate(X_test, Y_test)"
   ]
  },
  {
   "cell_type": "markdown",
   "metadata": {},
   "source": [
    "As we can see, after normalizing the data, we obtained slightly more accurate approximation"
   ]
  },
  {
   "cell_type": "code",
   "execution_count": 32,
   "metadata": {},
   "outputs": [],
   "source": [
    "from sklearn.metrics import r2_score\n",
    "\n",
    "def performance_metric(y_true, y_predict):\n",
    "    \"\"\" Calculates and returns the performance score between \n",
    "        true and predicted values based on the metric chosen. \"\"\"\n",
    "\n",
    "    # TODO: Calculate the performance score between 'y_true' and 'y_predict'\n",
    "    score = r2_score(y_true, y_predict)\n",
    "\n",
    "    # Return the score\n",
    "    return score"
   ]
  },
  {
   "cell_type": "code",
   "execution_count": 33,
   "metadata": {},
   "outputs": [
    {
     "ename": "SyntaxError",
     "evalue": "invalid syntax (<ipython-input-33-dd283188e3fb>, line 3)",
     "output_type": "error",
     "traceback": [
      "\u001b[1;36m  File \u001b[1;32m\"<ipython-input-33-dd283188e3fb>\"\u001b[1;36m, line \u001b[1;32m3\u001b[0m\n\u001b[1;33m    print \"Model has a coefficient of determination, R^2, of {:.3f}.\".format(score)\u001b[0m\n\u001b[1;37m                                                                    ^\u001b[0m\n\u001b[1;31mSyntaxError\u001b[0m\u001b[1;31m:\u001b[0m invalid syntax\n"
     ]
    }
   ],
   "source": [
    "score = performance_metric(Y_test.values, predictions.reshape((102,)))\n",
    "\n",
    "print \"Model has a coefficient of determination, R^2, of {:.3f}.\".format(score)"
   ]
  },
  {
   "cell_type": "markdown",
   "metadata": {},
   "source": [
    "#### Whitening"
   ]
  },
  {
   "cell_type": "code",
   "execution_count": null,
   "metadata": {},
   "outputs": [],
   "source": [
    "#import sklearn.decomposition as dec"
   ]
  },
  {
   "cell_type": "code",
   "execution_count": null,
   "metadata": {},
   "outputs": [],
   "source": [
    "#pca = dec.PCA(n_components=3, whiten=True)\n",
    "#pca.fit(X_train)\n",
    "#X_train_white = pd.DataFrame(pca.transform(X_train), columns=X_train.columns)\n",
    "#X_train_white[0:5]"
   ]
  },
  {
   "cell_type": "code",
   "execution_count": null,
   "metadata": {
    "scrolled": true
   },
   "outputs": [],
   "source": [
    "# Train the model after whitening\n",
    "#m.fit(X_train, Y_train, epochs=100, batch_size=8)"
   ]
  },
  {
   "cell_type": "code",
   "execution_count": null,
   "metadata": {
    "scrolled": true
   },
   "outputs": [],
   "source": [
    "#m.evaluate(X_test, Y_test)"
   ]
  },
  {
   "cell_type": "code",
   "execution_count": null,
   "metadata": {},
   "outputs": [],
   "source": []
  },
  {
   "cell_type": "markdown",
   "metadata": {},
   "source": [
    "## References\n",
    "\n",
    "[1] https://www.kaggle.com/c/boston-housing/overview\n",
    "\n",
    "[2] https://scikit-learn.org/stable/index.html\n",
    "\n",
    "[3] https://keras.io/"
   ]
  },
  {
   "cell_type": "code",
   "execution_count": null,
   "metadata": {},
   "outputs": [],
   "source": []
  }
 ],
 "metadata": {
  "kernelspec": {
   "display_name": "Python 3",
   "language": "python",
   "name": "python3"
  },
  "language_info": {
   "codemirror_mode": {
    "name": "ipython",
    "version": 3
   },
   "file_extension": ".py",
   "mimetype": "text/x-python",
   "name": "python",
   "nbconvert_exporter": "python",
   "pygments_lexer": "ipython3",
   "version": "3.7.4"
  }
 },
 "nbformat": 4,
 "nbformat_minor": 2
}
