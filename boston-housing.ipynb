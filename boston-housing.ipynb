{
 "cells": [
  {
   "cell_type": "markdown",
   "metadata": {},
   "source": [
    "# Housing Values in Suburbs of Boston\n"
   ]
  },
  {
   "cell_type": "markdown",
   "metadata": {},
   "source": [
    "<p align=\"center\"><img src=\"https://storage.googleapis.com/kaggle-competitions/kaggle/5315/logos/front_page.png\" width=250px></p><br>"
   ]
  },
  {
   "cell_type": "markdown",
   "metadata": {},
   "source": [
    "### Overview"
   ]
  },
  {
   "cell_type": "markdown",
   "metadata": {},
   "source": [
    "This project is being made as a study on the known Boston Houses data set [1]. This dataset is made from a study from a US census regarding various houses in different areas in the city of Boston, MA.\n",
    "\n",
    "This data was published in 1978 and it contains 500 samples, which makes it fairly small given the size of Boston.\n",
    "\n",
    "This notebook will be divided into 3 sections as follows:\n",
    "\n",
    "- Descriptive: The first section will be focused on conducting a statistical study on the dataset, where I will use descriptive statistics and plots to describe the Boston housing prices.\n",
    "\n",
    "- Inferential: This section will be used to analyse the dataset using inferential statistics in order to determine differences in house prices betwen their location.\n",
    "- Predict: The last section will be left for the prediction, Where I will be utilizing the Python library, keras, to conduct a neural network to be able to predict the median house price\n"
   ]
  },
  {
   "cell_type": "code",
   "execution_count": null,
   "metadata": {},
   "outputs": [],
   "source": []
  },
  {
   "cell_type": "markdown",
   "metadata": {},
   "source": [
    "### References\n",
    "\n",
    "[1] https://www.kaggle.com/c/boston-housing/overview"
   ]
  },
  {
   "cell_type": "code",
   "execution_count": null,
   "metadata": {},
   "outputs": [],
   "source": []
  }
 ],
 "metadata": {
  "kernelspec": {
   "display_name": "Python 3",
   "language": "python",
   "name": "python3"
  },
  "language_info": {
   "codemirror_mode": {
    "name": "ipython",
    "version": 3
   },
   "file_extension": ".py",
   "mimetype": "text/x-python",
   "name": "python",
   "nbconvert_exporter": "python",
   "pygments_lexer": "ipython3",
   "version": "3.7.3"
  }
 },
 "nbformat": 4,
 "nbformat_minor": 2
}
